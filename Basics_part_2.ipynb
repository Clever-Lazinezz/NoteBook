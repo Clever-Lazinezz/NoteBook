{
  "nbformat": 4,
  "nbformat_minor": 0,
  "metadata": {
    "colab": {
      "name": "Basics part 2.ipynb",
      "provenance": [],
      "collapsed_sections": [
        "lLMDBQSPCCr9",
        "OPjy65UlCG8a",
        "Aq17TvzhCnjV",
        "aBxBj0APD_oI",
        "HTclPFLyEn6X",
        "gkZGoQFmtCIB",
        "4P90CDiMtyIb",
        "w3lVwEFzuucK",
        "AQmiarB4BEix",
        "4tUsk0e3BKSr",
        "10zOHS0cByKi",
        "eLvJoP1XD7jZ",
        "Br9kra-hFaGo",
        "qqZafe5mFQm5",
        "T7QJstGYGC4m"
      ],
      "authorship_tag": "ABX9TyP/vV68SRUWe8wpvK+x+P1e",
      "include_colab_link": true
    },
    "kernelspec": {
      "name": "python3",
      "display_name": "Python 3"
    },
    "language_info": {
      "name": "python"
    }
  },
  "cells": [
    {
      "cell_type": "markdown",
      "metadata": {
        "id": "view-in-github",
        "colab_type": "text"
      },
      "source": [
        "<a href=\"https://colab.research.google.com/github/Clever-Lazinezz/NoteBook/blob/main/Basics_part_2.ipynb\" target=\"_parent\"><img src=\"https://colab.research.google.com/assets/colab-badge.svg\" alt=\"Open In Colab\"/></a>"
      ]
    },
    {
      "cell_type": "markdown",
      "source": [
        "## Intro to Python II"
      ],
      "metadata": {
        "id": "tQm4e4y9-7T4"
      }
    },
    {
      "cell_type": "markdown",
      "source": [
        "# Data Structures"
      ],
      "metadata": {
        "id": "DVHt9BbF_TKB"
      }
    },
    {
      "cell_type": "markdown",
      "source": [
        "## 1) Lists"
      ],
      "metadata": {
        "id": "lLMDBQSPCCr9"
      }
    },
    {
      "cell_type": "code",
      "source": [
        "st = []\n",
        "\n",
        "# In this line I am defining an empty list.\n",
        "# To defien a list, I create a variable name such as 'List' and then I assigned an empty set of squared brackets\n",
        "# By assign, I mean to simply use a single equal sign!"
      ],
      "metadata": {
        "colab": {
          "base_uri": "https://localhost:8080/",
          "height": 130
        },
        "id": "ve4-V_FJxKZl",
        "outputId": "76829f6a-0339-48e0-f867-430cf6313343"
      },
      "execution_count": 14,
      "outputs": [
        {
          "output_type": "error",
          "ename": "SyntaxError",
          "evalue": "ignored",
          "traceback": [
            "\u001b[0;36m  File \u001b[0;32m\"<ipython-input-14-f7f1f51fbade>\"\u001b[0;36m, line \u001b[0;32m1\u001b[0m\n\u001b[0;31m    1st = []\u001b[0m\n\u001b[0m      ^\u001b[0m\n\u001b[0;31mSyntaxError\u001b[0m\u001b[0;31m:\u001b[0m invalid syntax\n"
          ]
        }
      ]
    },
    {
      "cell_type": "code",
      "source": [
        "my_list = ['Hello', 100, 23.47]"
      ],
      "metadata": {
        "id": "LvXknH-AALod"
      },
      "execution_count": 15,
      "outputs": []
    },
    {
      "cell_type": "code",
      "source": [
        "print(my_list)"
      ],
      "metadata": {
        "colab": {
          "base_uri": "https://localhost:8080/"
        },
        "id": "h84so_PR-_SE",
        "outputId": "76106e3c-818f-4704-dde3-d52ff32b2bf9"
      },
      "execution_count": 16,
      "outputs": [
        {
          "output_type": "stream",
          "name": "stdout",
          "text": [
            "['Hello', 100, 23.47]\n"
          ]
        }
      ]
    },
    {
      "cell_type": "code",
      "source": [
        "type(my_list)"
      ],
      "metadata": {
        "colab": {
          "base_uri": "https://localhost:8080/"
        },
        "id": "_QZiV6gI-_aI",
        "outputId": "759dce74-f90e-4e06-e53e-d873afcc4cab"
      },
      "execution_count": 17,
      "outputs": [
        {
          "output_type": "execute_result",
          "data": {
            "text/plain": [
              "list"
            ]
          },
          "metadata": {},
          "execution_count": 17
        }
      ]
    },
    {
      "cell_type": "code",
      "source": [
        "second_list = [\"one\", \"two\", \"three\"]"
      ],
      "metadata": {
        "id": "vSYzuZsY-_dY"
      },
      "execution_count": 18,
      "outputs": []
    },
    {
      "cell_type": "code",
      "source": [
        "print(my_list, second_list)"
      ],
      "metadata": {
        "colab": {
          "base_uri": "https://localhost:8080/"
        },
        "id": "CGweytqf-_gM",
        "outputId": "150d133b-2797-4670-aa5a-34df3f05f0a1"
      },
      "execution_count": 19,
      "outputs": [
        {
          "output_type": "stream",
          "name": "stdout",
          "text": [
            "['Hello', 100, 23.47] ['one', 'two', 'three']\n"
          ]
        }
      ]
    },
    {
      "cell_type": "code",
      "source": [
        ""
      ],
      "metadata": {
        "id": "gc8LgQ2pA9Md"
      },
      "execution_count": 19,
      "outputs": []
    },
    {
      "cell_type": "markdown",
      "source": [
        "## 2) Indexing in a list"
      ],
      "metadata": {
        "id": "OPjy65UlCG8a"
      }
    },
    {
      "cell_type": "code",
      "source": [
        "students = [\"Robert\", \"Chris\", \"Katrina\", \"Scarlett\"]"
      ],
      "metadata": {
        "id": "7zRvwuVKCN9s"
      },
      "execution_count": 20,
      "outputs": []
    },
    {
      "cell_type": "code",
      "source": [
        "students"
      ],
      "metadata": {
        "colab": {
          "base_uri": "https://localhost:8080/"
        },
        "id": "Z4woTHE7CXJn",
        "outputId": "5765ffbd-0656-42b0-f814-6e6f36607745"
      },
      "execution_count": 21,
      "outputs": [
        {
          "output_type": "execute_result",
          "data": {
            "text/plain": [
              "['Robert', 'Chris', 'Katrina', 'Scarlett']"
            ]
          },
          "metadata": {},
          "execution_count": 21
        }
      ]
    },
    {
      "cell_type": "code",
      "source": [
        "students[0]"
      ],
      "metadata": {
        "colab": {
          "base_uri": "https://localhost:8080/",
          "height": 193
        },
        "id": "zdDHwec9Cbzm",
        "outputId": "d9a067a6-aa6b-434f-9815-96b8526b1618"
      },
      "execution_count": 22,
      "outputs": [
        {
          "output_type": "execute_result",
          "data": {
            "text/plain": [
              "'Robert'"
            ],
            "application/vnd.google.colaboratory.intrinsic+json": {
              "type": "string"
            }
          },
          "metadata": {},
          "execution_count": 22
        }
      ]
    },
    {
      "cell_type": "code",
      "source": [
        "string1 = \"this is a string\""
      ],
      "metadata": {
        "id": "xoodNhG5Cbrs"
      },
      "execution_count": 23,
      "outputs": []
    },
    {
      "cell_type": "code",
      "source": [
        "string1"
      ],
      "metadata": {
        "colab": {
          "base_uri": "https://localhost:8080/",
          "height": 363
        },
        "id": "Hdyvul33CbiJ",
        "outputId": "ccd23c22-8871-4b89-edc3-38cab8553f0d"
      },
      "execution_count": 24,
      "outputs": [
        {
          "output_type": "execute_result",
          "data": {
            "text/plain": [
              "'this is a string'"
            ],
            "application/vnd.google.colaboratory.intrinsic+json": {
              "type": "string"
            }
          },
          "metadata": {},
          "execution_count": 24
        }
      ]
    },
    {
      "cell_type": "code",
      "source": [
        "string1[2]"
      ],
      "metadata": {
        "colab": {
          "base_uri": "https://localhost:8080/",
          "height": 108
        },
        "id": "LpkhgEo1CbcK",
        "outputId": "2c82ba2b-5949-4a00-a2cd-1c3ae3d6c6e0"
      },
      "execution_count": 25,
      "outputs": [
        {
          "output_type": "execute_result",
          "data": {
            "text/plain": [
              "'i'"
            ],
            "application/vnd.google.colaboratory.intrinsic+json": {
              "type": "string"
            }
          },
          "metadata": {},
          "execution_count": 25
        }
      ]
    },
    {
      "cell_type": "markdown",
      "source": [
        "## 3) Editing the list's"
      ],
      "metadata": {
        "id": "Aq17TvzhCnjV"
      }
    },
    {
      "cell_type": "code",
      "source": [
        "students "
      ],
      "metadata": {
        "colab": {
          "base_uri": "https://localhost:8080/"
        },
        "id": "5BPY2GCCC1Px",
        "outputId": "5448b0d8-baca-4d69-a40d-a5345dfb0cd3"
      },
      "execution_count": 26,
      "outputs": [
        {
          "output_type": "execute_result",
          "data": {
            "text/plain": [
              "['Robert', 'Chris', 'Katrina', 'Scarlett']"
            ]
          },
          "metadata": {},
          "execution_count": 26
        }
      ]
    },
    {
      "cell_type": "code",
      "source": [
        "##replace element\n",
        "students[0] = \"Sam\""
      ],
      "metadata": {
        "id": "FlrFj5qyC-Ux"
      },
      "execution_count": 27,
      "outputs": []
    },
    {
      "cell_type": "code",
      "source": [
        "##add values\n",
        "students.append(\"Paul\")\n",
        "students"
      ],
      "metadata": {
        "colab": {
          "base_uri": "https://localhost:8080/"
        },
        "id": "wwTlV-HZDGqx",
        "outputId": "0155ac55-8352-446b-cb6b-46bb433ad29c"
      },
      "execution_count": 28,
      "outputs": [
        {
          "output_type": "execute_result",
          "data": {
            "text/plain": [
              "['Sam', 'Chris', 'Katrina', 'Scarlett', 'Paul']"
            ]
          },
          "metadata": {},
          "execution_count": 28
        }
      ]
    },
    {
      "cell_type": "code",
      "source": [
        "## Remove values\n",
        "students.remove(\"Paul\")\n",
        "students"
      ],
      "metadata": {
        "colab": {
          "base_uri": "https://localhost:8080/"
        },
        "id": "xflPwiEaDKbR",
        "outputId": "b595596c-1063-4903-e54c-1f9fe1c35c04"
      },
      "execution_count": 29,
      "outputs": [
        {
          "output_type": "execute_result",
          "data": {
            "text/plain": [
              "['Sam', 'Chris', 'Katrina', 'Scarlett']"
            ]
          },
          "metadata": {},
          "execution_count": 29
        }
      ]
    },
    {
      "cell_type": "code",
      "source": [
        "list1 = [\"one\", \"two\", \"three\", \"four\", \"five\"]"
      ],
      "metadata": {
        "id": "2ataIQaFDcZ9"
      },
      "execution_count": 30,
      "outputs": []
    },
    {
      "cell_type": "code",
      "source": [
        "list1.pop(2)"
      ],
      "metadata": {
        "colab": {
          "base_uri": "https://localhost:8080/",
          "height": 176
        },
        "id": "FOW1ZdF6D0Hm",
        "outputId": "a69e2a5d-29a4-416c-8c6a-d99b7109e260"
      },
      "execution_count": 31,
      "outputs": [
        {
          "output_type": "execute_result",
          "data": {
            "text/plain": [
              "'three'"
            ],
            "application/vnd.google.colaboratory.intrinsic+json": {
              "type": "string"
            }
          },
          "metadata": {},
          "execution_count": 31
        }
      ]
    },
    {
      "cell_type": "code",
      "source": [
        "list1"
      ],
      "metadata": {
        "colab": {
          "base_uri": "https://localhost:8080/"
        },
        "id": "u7hF2VLVD2Zv",
        "outputId": "11f16d94-07d5-428c-97dc-c9f524f7881f"
      },
      "execution_count": 32,
      "outputs": [
        {
          "output_type": "execute_result",
          "data": {
            "text/plain": [
              "['one', 'two', 'four', 'five']"
            ]
          },
          "metadata": {},
          "execution_count": 32
        }
      ]
    },
    {
      "cell_type": "markdown",
      "source": [
        "## 4)Add list into list"
      ],
      "metadata": {
        "id": "aBxBj0APD_oI"
      }
    },
    {
      "cell_type": "code",
      "source": [
        "color = [\"red\", \"blue\", \"green\", \"orange\"]"
      ],
      "metadata": {
        "id": "bQHFL88aEQSm"
      },
      "execution_count": 33,
      "outputs": []
    },
    {
      "cell_type": "code",
      "source": [
        "color"
      ],
      "metadata": {
        "colab": {
          "base_uri": "https://localhost:8080/"
        },
        "id": "EQU_8WNsEfGl",
        "outputId": "57f875d6-729d-4ec6-933a-60380ea6ebe9"
      },
      "execution_count": 34,
      "outputs": [
        {
          "output_type": "execute_result",
          "data": {
            "text/plain": [
              "['red', 'blue', 'green', 'orange']"
            ]
          },
          "metadata": {},
          "execution_count": 34
        }
      ]
    },
    {
      "cell_type": "code",
      "source": [
        "age = [21, 23, 25, 27]"
      ],
      "metadata": {
        "id": "dE0VFf0pEIFQ"
      },
      "execution_count": 35,
      "outputs": []
    },
    {
      "cell_type": "code",
      "source": [
        "age"
      ],
      "metadata": {
        "colab": {
          "base_uri": "https://localhost:8080/"
        },
        "id": "QccMVNABEH9n",
        "outputId": "aeef61bd-22f1-4f19-d533-a5904b2a7b64"
      },
      "execution_count": 36,
      "outputs": [
        {
          "output_type": "execute_result",
          "data": {
            "text/plain": [
              "[21, 23, 25, 27]"
            ]
          },
          "metadata": {},
          "execution_count": 36
        }
      ]
    },
    {
      "cell_type": "code",
      "source": [
        "color.extend(age)"
      ],
      "metadata": {
        "id": "q0Jh5w3MEH0P"
      },
      "execution_count": 37,
      "outputs": []
    },
    {
      "cell_type": "code",
      "source": [
        "color"
      ],
      "metadata": {
        "colab": {
          "base_uri": "https://localhost:8080/"
        },
        "id": "4mKdwc9sEHtb",
        "outputId": "4e7486a0-8e92-4400-d646-3799849a0fb9"
      },
      "execution_count": 38,
      "outputs": [
        {
          "output_type": "execute_result",
          "data": {
            "text/plain": [
              "['red', 'blue', 'green', 'orange', 21, 23, 25, 27]"
            ]
          },
          "metadata": {},
          "execution_count": 38
        }
      ]
    },
    {
      "cell_type": "markdown",
      "source": [
        "## 5)Python in-build function with the list's"
      ],
      "metadata": {
        "id": "HTclPFLyEn6X"
      }
    },
    {
      "cell_type": "code",
      "source": [
        "even = [2, 4, 6, 8]\n",
        "odd = [1, 3, 5, 7, 9]"
      ],
      "metadata": {
        "id": "7s1zA6JZFBeY"
      },
      "execution_count": 39,
      "outputs": []
    },
    {
      "cell_type": "code",
      "source": [
        "numbers = even + odd"
      ],
      "metadata": {
        "id": "zBdJ3wi8FBT0"
      },
      "execution_count": 40,
      "outputs": []
    },
    {
      "cell_type": "code",
      "source": [
        "numbers"
      ],
      "metadata": {
        "colab": {
          "base_uri": "https://localhost:8080/"
        },
        "id": "0wDJAT0GFA9J",
        "outputId": "90780c6d-0cd1-424c-b829-c7f1e22edee6"
      },
      "execution_count": 41,
      "outputs": [
        {
          "output_type": "execute_result",
          "data": {
            "text/plain": [
              "[2, 4, 6, 8, 1, 3, 5, 7, 9]"
            ]
          },
          "metadata": {},
          "execution_count": 41
        }
      ]
    },
    {
      "cell_type": "code",
      "source": [
        "print(sorted(numbers))"
      ],
      "metadata": {
        "colab": {
          "base_uri": "https://localhost:8080/"
        },
        "id": "F-bw_1u8FAv1",
        "outputId": "42c6959d-56c5-4d48-e199-21a58173ae5d"
      },
      "execution_count": 42,
      "outputs": [
        {
          "output_type": "stream",
          "name": "stdout",
          "text": [
            "[1, 2, 3, 4, 5, 6, 7, 8, 9]\n"
          ]
        }
      ]
    },
    {
      "cell_type": "code",
      "source": [
        "len(numbers)"
      ],
      "metadata": {
        "colab": {
          "base_uri": "https://localhost:8080/"
        },
        "id": "72V7aw2fFAbL",
        "outputId": "5c3d64f8-c14a-43a6-bc76-1277b21d86c7"
      },
      "execution_count": 43,
      "outputs": [
        {
          "output_type": "execute_result",
          "data": {
            "text/plain": [
              "9"
            ]
          },
          "metadata": {},
          "execution_count": 43
        }
      ]
    },
    {
      "cell_type": "code",
      "source": [
        "max(numbers)"
      ],
      "metadata": {
        "colab": {
          "base_uri": "https://localhost:8080/"
        },
        "id": "opqW8eSGFpnu",
        "outputId": "99489ee8-4050-491f-b3db-562b83243d70"
      },
      "execution_count": 44,
      "outputs": [
        {
          "output_type": "execute_result",
          "data": {
            "text/plain": [
              "9"
            ]
          },
          "metadata": {},
          "execution_count": 44
        }
      ]
    },
    {
      "cell_type": "code",
      "source": [
        "min(numbers)"
      ],
      "metadata": {
        "colab": {
          "base_uri": "https://localhost:8080/"
        },
        "id": "OAEuqAKkFrmn",
        "outputId": "539379cb-15cd-4886-8aab-953b4e1abee5"
      },
      "execution_count": 45,
      "outputs": [
        {
          "output_type": "execute_result",
          "data": {
            "text/plain": [
              "1"
            ]
          },
          "metadata": {},
          "execution_count": 45
        }
      ]
    },
    {
      "cell_type": "code",
      "source": [
        "#"
      ],
      "metadata": {
        "id": "K4Bjkf9eFtt7"
      },
      "execution_count": 46,
      "outputs": []
    },
    {
      "cell_type": "markdown",
      "source": [
        "## Dictionaries"
      ],
      "metadata": {
        "id": "FI6xXpR7s83d"
      }
    },
    {
      "cell_type": "markdown",
      "source": [
        "## 1) Define a Dictionary"
      ],
      "metadata": {
        "id": "gkZGoQFmtCIB"
      }
    },
    {
      "cell_type": "code",
      "source": [
        "my_dict = {\"key1\":\"value1\", \"key2\":\"value2\"}\n",
        "my_dict"
      ],
      "metadata": {
        "colab": {
          "base_uri": "https://localhost:8080/"
        },
        "id": "-GpJ1vfztGrO",
        "outputId": "569f6611-3049-445c-bd23-24f4f9c5dcee"
      },
      "execution_count": 47,
      "outputs": [
        {
          "output_type": "execute_result",
          "data": {
            "text/plain": [
              "{'key1': 'value1', 'key2': 'value2'}"
            ]
          },
          "metadata": {},
          "execution_count": 47
        }
      ]
    },
    {
      "cell_type": "code",
      "source": [
        "my_dict[\"key1\"]"
      ],
      "metadata": {
        "colab": {
          "base_uri": "https://localhost:8080/",
          "height": 193
        },
        "id": "dnm__0iGtW7p",
        "outputId": "dc82b150-687d-4b5a-9585-3c885373f654"
      },
      "execution_count": 48,
      "outputs": [
        {
          "output_type": "execute_result",
          "data": {
            "text/plain": [
              "'value1'"
            ],
            "application/vnd.google.colaboratory.intrinsic+json": {
              "type": "string"
            }
          },
          "metadata": {},
          "execution_count": 48
        }
      ]
    },
    {
      "cell_type": "code",
      "source": [
        "fruits = {\"Apple\":3, \"Banana\":1.75, \"Cherry\":2}\n",
        "fruits \n",
        "fruits[\"Apple\"]"
      ],
      "metadata": {
        "colab": {
          "base_uri": "https://localhost:8080/"
        },
        "id": "NkhmrH_9teOI",
        "outputId": "d4fb00e8-4f08-484b-8488-e3997f993f32"
      },
      "execution_count": 49,
      "outputs": [
        {
          "output_type": "execute_result",
          "data": {
            "text/plain": [
              "3"
            ]
          },
          "metadata": {},
          "execution_count": 49
        }
      ]
    },
    {
      "cell_type": "markdown",
      "source": [
        "## 2) Dictionaries with all data types"
      ],
      "metadata": {
        "id": "4P90CDiMtyIb"
      }
    },
    {
      "cell_type": "code",
      "source": [
        "new_dict = {\"k1\":147, \"k2\": [ 15, 25, 35], \"k3\":[\"Apple\"]}"
      ],
      "metadata": {
        "id": "C4AhNXM2t8re"
      },
      "execution_count": 50,
      "outputs": []
    },
    {
      "cell_type": "code",
      "source": [
        "new_dict[\"k3\"]"
      ],
      "metadata": {
        "colab": {
          "base_uri": "https://localhost:8080/"
        },
        "id": "h8JnyrFOuQdv",
        "outputId": "c3eb155d-bcce-48c9-d785-feebaeebd5b9"
      },
      "execution_count": 51,
      "outputs": [
        {
          "output_type": "execute_result",
          "data": {
            "text/plain": [
              "['Apple']"
            ]
          },
          "metadata": {},
          "execution_count": 51
        }
      ]
    },
    {
      "cell_type": "code",
      "source": [
        ""
      ],
      "metadata": {
        "id": "VfLiANcOwU94"
      },
      "execution_count": 51,
      "outputs": []
    },
    {
      "cell_type": "markdown",
      "source": [
        "## 3) Replace Values"
      ],
      "metadata": {
        "id": "w3lVwEFzuucK"
      }
    },
    {
      "cell_type": "code",
      "source": [
        ""
      ],
      "metadata": {
        "id": "9X9w9zjOwRij"
      },
      "execution_count": 51,
      "outputs": []
    },
    {
      "cell_type": "markdown",
      "source": [
        "## Tuples"
      ],
      "metadata": {
        "id": "AQmiarB4BEix"
      }
    },
    {
      "cell_type": "code",
      "source": [
        "# Tuples are immutable"
      ],
      "metadata": {
        "id": "hqTLIFS2DT6l"
      },
      "execution_count": null,
      "outputs": []
    },
    {
      "cell_type": "markdown",
      "source": [
        "## Define a Tuple"
      ],
      "metadata": {
        "id": "4tUsk0e3BKSr"
      }
    },
    {
      "cell_type": "code",
      "source": [
        "prime_numbers = (2,3,5,7,11)"
      ],
      "metadata": {
        "id": "2VZdn2loBORq"
      },
      "execution_count": 52,
      "outputs": []
    },
    {
      "cell_type": "code",
      "source": [
        "prime_numbers"
      ],
      "metadata": {
        "colab": {
          "base_uri": "https://localhost:8080/"
        },
        "id": "1Haz-QeDBVrv",
        "outputId": "8819777f-80e3-4914-d9ec-c05d16b3d589"
      },
      "execution_count": 53,
      "outputs": [
        {
          "output_type": "execute_result",
          "data": {
            "text/plain": [
              "(2, 3, 5, 7, 11)"
            ]
          },
          "metadata": {},
          "execution_count": 53
        }
      ]
    },
    {
      "cell_type": "code",
      "source": [
        "perfect_squares = [1,4,9,16,25,36,49,64,81,100,121]\n",
        "type(perfect_squares)"
      ],
      "metadata": {
        "colab": {
          "base_uri": "https://localhost:8080/"
        },
        "id": "sHq857vLBXPn",
        "outputId": "eae2f967-5ef5-4c91-d699-fdcfe85c7554"
      },
      "execution_count": 68,
      "outputs": [
        {
          "output_type": "execute_result",
          "data": {
            "text/plain": [
              "list"
            ]
          },
          "metadata": {},
          "execution_count": 68
        }
      ]
    },
    {
      "cell_type": "code",
      "source": [
        "len(prime_numbers)"
      ],
      "metadata": {
        "colab": {
          "base_uri": "https://localhost:8080/"
        },
        "id": "zxxcAybHBgzo",
        "outputId": "257f4c01-f9a3-460a-a088-46fd969acade"
      },
      "execution_count": 56,
      "outputs": [
        {
          "output_type": "execute_result",
          "data": {
            "text/plain": [
              "5"
            ]
          },
          "metadata": {},
          "execution_count": 56
        }
      ]
    },
    {
      "cell_type": "code",
      "source": [
        "len(perfect_squares)"
      ],
      "metadata": {
        "colab": {
          "base_uri": "https://localhost:8080/"
        },
        "id": "euzYu5tOBsD7",
        "outputId": "24256847-807b-4a22-aaba-9a66acb4bfca"
      },
      "execution_count": 57,
      "outputs": [
        {
          "output_type": "execute_result",
          "data": {
            "text/plain": [
              "6"
            ]
          },
          "metadata": {},
          "execution_count": 57
        }
      ]
    },
    {
      "cell_type": "code",
      "source": [
        "my_tuple = (\"Hiee\", 100,100, 12, 47)\n",
        "my_tuple"
      ],
      "metadata": {
        "colab": {
          "base_uri": "https://localhost:8080/"
        },
        "id": "utuC66GNBwD6",
        "outputId": "9c3eccd3-ee0c-470a-a438-1ae4e91c88ee"
      },
      "execution_count": 69,
      "outputs": [
        {
          "output_type": "execute_result",
          "data": {
            "text/plain": [
              "('Hiee', 100, 100, 12, 47)"
            ]
          },
          "metadata": {},
          "execution_count": 69
        }
      ]
    },
    {
      "cell_type": "markdown",
      "source": [
        "## Indexing in Tuples"
      ],
      "metadata": {
        "id": "10zOHS0cByKi"
      }
    },
    {
      "cell_type": "code",
      "source": [
        "my_tuple[0]"
      ],
      "metadata": {
        "colab": {
          "base_uri": "https://localhost:8080/",
          "height": 37
        },
        "id": "hjMdRvU0B63v",
        "outputId": "c97904c0-8729-455d-8c60-a9daef413a02"
      },
      "execution_count": 61,
      "outputs": [
        {
          "output_type": "execute_result",
          "data": {
            "text/plain": [
              "'Hiee'"
            ],
            "application/vnd.google.colaboratory.intrinsic+json": {
              "type": "string"
            }
          },
          "metadata": {},
          "execution_count": 61
        }
      ]
    },
    {
      "cell_type": "code",
      "source": [
        "my_tuple[1]"
      ],
      "metadata": {
        "colab": {
          "base_uri": "https://localhost:8080/"
        },
        "id": "Nqo9PfVTB-A9",
        "outputId": "91bf0fcd-4b69-4e3f-baa5-7b75633b44cb"
      },
      "execution_count": 62,
      "outputs": [
        {
          "output_type": "execute_result",
          "data": {
            "text/plain": [
              "100"
            ]
          },
          "metadata": {},
          "execution_count": 62
        }
      ]
    },
    {
      "cell_type": "code",
      "source": [
        "my_tuple[0:2]"
      ],
      "metadata": {
        "colab": {
          "base_uri": "https://localhost:8080/"
        },
        "id": "uWGc3mcBCAPK",
        "outputId": "a7b263b8-1a7f-4f31-faff-08cd51383ebe"
      },
      "execution_count": 63,
      "outputs": [
        {
          "output_type": "execute_result",
          "data": {
            "text/plain": [
              "('Hiee', 100)"
            ]
          },
          "metadata": {},
          "execution_count": 63
        }
      ]
    },
    {
      "cell_type": "code",
      "source": [
        "perfect_squares[2:5]"
      ],
      "metadata": {
        "colab": {
          "base_uri": "https://localhost:8080/"
        },
        "id": "tCN1IjQ8CCmK",
        "outputId": "2580b920-7a73-4a6b-ae05-e551cdeceb95"
      },
      "execution_count": 64,
      "outputs": [
        {
          "output_type": "execute_result",
          "data": {
            "text/plain": [
              "[9, 16, 25]"
            ]
          },
          "metadata": {},
          "execution_count": 64
        }
      ]
    },
    {
      "cell_type": "code",
      "source": [
        "#returns number of occurences of given item\n",
        "my_tuple.count(100)"
      ],
      "metadata": {
        "colab": {
          "base_uri": "https://localhost:8080/"
        },
        "id": "-wOnbEOVDFNz",
        "outputId": "c5080f2e-0aac-46a0-e1c6-6993811763f8"
      },
      "execution_count": 70,
      "outputs": [
        {
          "output_type": "execute_result",
          "data": {
            "text/plain": [
              "2"
            ]
          },
          "metadata": {},
          "execution_count": 70
        }
      ]
    },
    {
      "cell_type": "code",
      "source": [
        ""
      ],
      "metadata": {
        "id": "REYYt9HZDIrb"
      },
      "execution_count": null,
      "outputs": []
    },
    {
      "cell_type": "markdown",
      "source": [
        "## Sets"
      ],
      "metadata": {
        "id": "eLvJoP1XD7jZ"
      }
    },
    {
      "cell_type": "code",
      "source": [
        "# Sets have no repeats "
      ],
      "metadata": {
        "id": "kiL4WzFmENf4"
      },
      "execution_count": null,
      "outputs": []
    },
    {
      "cell_type": "code",
      "source": [
        "my_set = set()"
      ],
      "metadata": {
        "id": "1GiRgiHMD9_6"
      },
      "execution_count": 71,
      "outputs": []
    },
    {
      "cell_type": "code",
      "source": [
        "my_list = [ 1, 1, 1, 2, 2, 3,\"Apple\", \"Apple\"]"
      ],
      "metadata": {
        "id": "S77OW-1SEAjP"
      },
      "execution_count": 72,
      "outputs": []
    },
    {
      "cell_type": "code",
      "source": [
        "set(my_list)"
      ],
      "metadata": {
        "colab": {
          "base_uri": "https://localhost:8080/"
        },
        "id": "vk7PaHqtEKK2",
        "outputId": "cd81fae5-dbbb-484c-9980-cd16b4cee668"
      },
      "execution_count": 73,
      "outputs": [
        {
          "output_type": "execute_result",
          "data": {
            "text/plain": [
              "{1, 2, 3, 'Apple'}"
            ]
          },
          "metadata": {},
          "execution_count": 73
        }
      ]
    },
    {
      "cell_type": "code",
      "source": [
        "my_set"
      ],
      "metadata": {
        "colab": {
          "base_uri": "https://localhost:8080/"
        },
        "id": "KoiekhZDEMKK",
        "outputId": "6f316e70-7910-4021-d1ca-a2070b9f9735"
      },
      "execution_count": 74,
      "outputs": [
        {
          "output_type": "execute_result",
          "data": {
            "text/plain": [
              "set()"
            ]
          },
          "metadata": {},
          "execution_count": 74
        }
      ]
    },
    {
      "cell_type": "code",
      "source": [
        "my_set.add(22)"
      ],
      "metadata": {
        "id": "sUZF9T29EXdW"
      },
      "execution_count": 75,
      "outputs": []
    },
    {
      "cell_type": "code",
      "source": [
        "my_set.add(23)"
      ],
      "metadata": {
        "id": "x2ayZ_aMEaa8"
      },
      "execution_count": 76,
      "outputs": []
    },
    {
      "cell_type": "code",
      "source": [
        "my_set"
      ],
      "metadata": {
        "colab": {
          "base_uri": "https://localhost:8080/"
        },
        "id": "WZ4TDINxEc4a",
        "outputId": "324d4a66-47b3-4311-84fb-f8aa36f02e3a"
      },
      "execution_count": 77,
      "outputs": [
        {
          "output_type": "execute_result",
          "data": {
            "text/plain": [
              "{22, 23}"
            ]
          },
          "metadata": {},
          "execution_count": 77
        }
      ]
    },
    {
      "cell_type": "markdown",
      "source": [
        "## Strings...Part II"
      ],
      "metadata": {
        "id": "zapRzinsEd3d"
      }
    },
    {
      "cell_type": "markdown",
      "source": [
        "## 1) Concatenation of the Strings"
      ],
      "metadata": {
        "id": "Br9kra-hFaGo"
      }
    },
    {
      "cell_type": "code",
      "source": [
        "greeting = \"Hello\"\n",
        "name = \"Mark\"\n",
        "print(greeting + name)"
      ],
      "metadata": {
        "colab": {
          "base_uri": "https://localhost:8080/"
        },
        "id": "ocUX4IYaErS1",
        "outputId": "4fa659cc-4515-4fa0-e310-b22ed6320b1e"
      },
      "execution_count": 78,
      "outputs": [
        {
          "output_type": "stream",
          "name": "stdout",
          "text": [
            "HelloMark\n"
          ]
        }
      ]
    },
    {
      "cell_type": "code",
      "source": [
        "print(greeting + \" \" + name)"
      ],
      "metadata": {
        "colab": {
          "base_uri": "https://localhost:8080/"
        },
        "id": "PfuQ2MdXFD5V",
        "outputId": "b40e552c-bdcf-4d13-b282-8dc19ba8f4d1"
      },
      "execution_count": 79,
      "outputs": [
        {
          "output_type": "stream",
          "name": "stdout",
          "text": [
            "Hello Mark\n"
          ]
        }
      ]
    },
    {
      "cell_type": "markdown",
      "source": [
        "## 2) Input Function"
      ],
      "metadata": {
        "id": "qqZafe5mFQm5"
      }
    },
    {
      "cell_type": "code",
      "source": [
        "name = input(\"What is your name: \")"
      ],
      "metadata": {
        "colab": {
          "base_uri": "https://localhost:8080/"
        },
        "id": "FZ_TayQRFpeS",
        "outputId": "b485dee5-fbce-4ec8-b39b-9e45bef05cef"
      },
      "execution_count": 80,
      "outputs": [
        {
          "name": "stdout",
          "output_type": "stream",
          "text": [
            "What is your name: John\n"
          ]
        }
      ]
    },
    {
      "cell_type": "code",
      "source": [
        "print(greeting + \" \" + name)"
      ],
      "metadata": {
        "colab": {
          "base_uri": "https://localhost:8080/"
        },
        "id": "5WCmxSTsFvrE",
        "outputId": "ebf3bff5-7d91-4727-f0ba-5305c56c098b"
      },
      "execution_count": 81,
      "outputs": [
        {
          "output_type": "stream",
          "name": "stdout",
          "text": [
            "Hello John\n"
          ]
        }
      ]
    },
    {
      "cell_type": "markdown",
      "source": [
        "## 3) Indexing Strings"
      ],
      "metadata": {
        "id": "T7QJstGYGC4m"
      }
    },
    {
      "cell_type": "code",
      "source": [
        "color = \"Orange\""
      ],
      "metadata": {
        "id": "I3sXLxVmGLXJ"
      },
      "execution_count": 83,
      "outputs": []
    },
    {
      "cell_type": "code",
      "source": [
        "color[3]"
      ],
      "metadata": {
        "colab": {
          "base_uri": "https://localhost:8080/",
          "height": 37
        },
        "id": "KkzRpUs-GNhi",
        "outputId": "03d228ca-cb61-4be5-a7f5-2fd0ff77696a"
      },
      "execution_count": 84,
      "outputs": [
        {
          "output_type": "execute_result",
          "data": {
            "text/plain": [
              "'n'"
            ],
            "application/vnd.google.colaboratory.intrinsic+json": {
              "type": "string"
            }
          },
          "metadata": {},
          "execution_count": 84
        }
      ]
    },
    {
      "cell_type": "code",
      "source": [
        "color[-1]"
      ],
      "metadata": {
        "colab": {
          "base_uri": "https://localhost:8080/",
          "height": 37
        },
        "id": "KkaAwiIsGVMg",
        "outputId": "ed6cd669-9c74-4e17-a1bb-a10f6c20f26b"
      },
      "execution_count": 85,
      "outputs": [
        {
          "output_type": "execute_result",
          "data": {
            "text/plain": [
              "'e'"
            ],
            "application/vnd.google.colaboratory.intrinsic+json": {
              "type": "string"
            }
          },
          "metadata": {},
          "execution_count": 85
        }
      ]
    },
    {
      "cell_type": "code",
      "source": [
        "color[-2]"
      ],
      "metadata": {
        "colab": {
          "base_uri": "https://localhost:8080/",
          "height": 37
        },
        "id": "R1XgtG4-GXKH",
        "outputId": "37f83e0a-58cc-40ce-c952-3a7f529a1760"
      },
      "execution_count": 86,
      "outputs": [
        {
          "output_type": "execute_result",
          "data": {
            "text/plain": [
              "'g'"
            ],
            "application/vnd.google.colaboratory.intrinsic+json": {
              "type": "string"
            }
          },
          "metadata": {},
          "execution_count": 86
        }
      ]
    },
    {
      "cell_type": "code",
      "source": [
        "color[2:-1]"
      ],
      "metadata": {
        "colab": {
          "base_uri": "https://localhost:8080/",
          "height": 37
        },
        "id": "j8dC0AyAGZ4F",
        "outputId": "3f44af21-d17e-4b99-baad-9a8b2e3c2538"
      },
      "execution_count": 87,
      "outputs": [
        {
          "output_type": "execute_result",
          "data": {
            "text/plain": [
              "'ang'"
            ],
            "application/vnd.google.colaboratory.intrinsic+json": {
              "type": "string"
            }
          },
          "metadata": {},
          "execution_count": 87
        }
      ]
    },
    {
      "cell_type": "markdown",
      "source": [
        "## 4) String Formatting"
      ],
      "metadata": {
        "id": "IdC0_BxJGb_-"
      }
    },
    {
      "cell_type": "code",
      "source": [
        "age = str(27)"
      ],
      "metadata": {
        "id": "pT-TNPrRGjme"
      },
      "execution_count": 90,
      "outputs": []
    },
    {
      "cell_type": "code",
      "source": [
        "##Strings can only be concated with other strings, including in print methods\n",
        "print(\"My age is \" + age + \" years old\")"
      ],
      "metadata": {
        "colab": {
          "base_uri": "https://localhost:8080/"
        },
        "id": "um08ypyAGk5M",
        "outputId": "aa940f37-a3bc-4728-ed6a-6e59dec7535f"
      },
      "execution_count": 91,
      "outputs": [
        {
          "output_type": "stream",
          "name": "stdout",
          "text": [
            "My age is 27 years old\n"
          ]
        }
      ]
    },
    {
      "cell_type": "code",
      "source": [
        "print(\"The colors are {r} {g} {b} \".format(r=\"Red\", g=\"Green\", b=\"Blue\"))"
      ],
      "metadata": {
        "colab": {
          "base_uri": "https://localhost:8080/"
        },
        "id": "k2ubwipVGrIt",
        "outputId": "0a17dd27-62fb-45d4-d372-9dccfb124a21"
      },
      "execution_count": 92,
      "outputs": [
        {
          "output_type": "stream",
          "name": "stdout",
          "text": [
            "The colors are Red Green Blue \n"
          ]
        }
      ]
    },
    {
      "cell_type": "code",
      "source": [
        "pi = 3.1415"
      ],
      "metadata": {
        "id": "lccQ1f9LIVqU"
      },
      "execution_count": null,
      "outputs": []
    },
    {
      "cell_type": "code",
      "source": [
        "print(\"The value of pi is {}\".format(pi))"
      ],
      "metadata": {
        "id": "zL2YQgf0IbOR"
      },
      "execution_count": null,
      "outputs": []
    },
    {
      "cell_type": "code",
      "source": [
        "print(f\"The value of pi is {pi}\")"
      ],
      "metadata": {
        "id": "rqssop4YIBST"
      },
      "execution_count": null,
      "outputs": []
    },
    {
      "cell_type": "markdown",
      "source": [
        "## Converting to Binary"
      ],
      "metadata": {
        "id": "6oEvH5Y7NXWh"
      }
    },
    {
      "cell_type": "code",
      "source": [
        "bin_num = 0b10\n",
        "oct_num = 0o10\n",
        "hex_num = 0x10\n",
        "\n",
        "print(bin_num)\n",
        "print(oct_num)\n",
        "print(hex_num)"
      ],
      "metadata": {
        "colab": {
          "base_uri": "https://localhost:8080/"
        },
        "id": "Y_aWBQAyNbdM",
        "outputId": "4f861202-a9f9-4d5f-9f74-8643e5dcecd9"
      },
      "execution_count": 93,
      "outputs": [
        {
          "output_type": "stream",
          "name": "stdout",
          "text": [
            "2\n",
            "8\n",
            "16\n"
          ]
        }
      ]
    },
    {
      "cell_type": "code",
      "source": [
        "num = int(input(\"Choose a number to convert to binary\"))"
      ],
      "metadata": {
        "colab": {
          "base_uri": "https://localhost:8080/"
        },
        "id": "ia77crjNNqQ4",
        "outputId": "ee022155-db13-4c1f-f541-0d1856676689"
      },
      "execution_count": 94,
      "outputs": [
        {
          "name": "stdout",
          "output_type": "stream",
          "text": [
            "Choose a number to convert to binary23\n"
          ]
        }
      ]
    },
    {
      "cell_type": "code",
      "source": [
        "bin(num)"
      ],
      "metadata": {
        "colab": {
          "base_uri": "https://localhost:8080/",
          "height": 37
        },
        "id": "_LlwHc6iOE4h",
        "outputId": "67f49ed7-55af-4204-f146-8d6e96d782f0"
      },
      "execution_count": 95,
      "outputs": [
        {
          "output_type": "execute_result",
          "data": {
            "text/plain": [
              "'0b10111'"
            ],
            "application/vnd.google.colaboratory.intrinsic+json": {
              "type": "string"
            }
          },
          "metadata": {},
          "execution_count": 95
        }
      ]
    }
  ]
}