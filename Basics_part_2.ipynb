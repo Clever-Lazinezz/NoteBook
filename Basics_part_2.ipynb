{
  "nbformat": 4,
  "nbformat_minor": 0,
  "metadata": {
    "colab": {
      "name": "Basics part 2.ipynb",
      "provenance": [],
      "collapsed_sections": [
        "lLMDBQSPCCr9",
        "OPjy65UlCG8a",
        "Aq17TvzhCnjV",
        "aBxBj0APD_oI",
        "HTclPFLyEn6X"
      ],
      "authorship_tag": "ABX9TyOYKqYDk2xvxMT4ggmO5tIf",
      "include_colab_link": true
    },
    "kernelspec": {
      "name": "python3",
      "display_name": "Python 3"
    },
    "language_info": {
      "name": "python"
    }
  },
  "cells": [
    {
      "cell_type": "markdown",
      "metadata": {
        "id": "view-in-github",
        "colab_type": "text"
      },
      "source": [
        "<a href=\"https://colab.research.google.com/github/Clever-Lazinezz/NoteBook/blob/main/Basics_part_2.ipynb\" target=\"_parent\"><img src=\"https://colab.research.google.com/assets/colab-badge.svg\" alt=\"Open In Colab\"/></a>"
      ]
    },
    {
      "cell_type": "markdown",
      "source": [
        "## Intro to Python II"
      ],
      "metadata": {
        "id": "tQm4e4y9-7T4"
      }
    },
    {
      "cell_type": "markdown",
      "source": [
        "# Data Structures"
      ],
      "metadata": {
        "id": "DVHt9BbF_TKB"
      }
    },
    {
      "cell_type": "markdown",
      "source": [
        "## 1) Lists"
      ],
      "metadata": {
        "id": "lLMDBQSPCCr9"
      }
    },
    {
      "cell_type": "code",
      "source": [
        "my_list = ['Hello', 100, 23.47]"
      ],
      "metadata": {
        "id": "LvXknH-AALod"
      },
      "execution_count": 2,
      "outputs": []
    },
    {
      "cell_type": "code",
      "source": [
        "print(my_list)"
      ],
      "metadata": {
        "colab": {
          "base_uri": "https://localhost:8080/"
        },
        "id": "h84so_PR-_SE",
        "outputId": "665cbf04-b3e3-4250-af7c-acb3b5035105"
      },
      "execution_count": 3,
      "outputs": [
        {
          "output_type": "stream",
          "name": "stdout",
          "text": [
            "['Hello', 100, 23.47]\n"
          ]
        }
      ]
    },
    {
      "cell_type": "code",
      "source": [
        "type(my_list)"
      ],
      "metadata": {
        "colab": {
          "base_uri": "https://localhost:8080/"
        },
        "id": "_QZiV6gI-_aI",
        "outputId": "74cf38ae-757d-40cc-ceb0-bc1bcaf5595a"
      },
      "execution_count": 4,
      "outputs": [
        {
          "output_type": "execute_result",
          "data": {
            "text/plain": [
              "list"
            ]
          },
          "metadata": {},
          "execution_count": 4
        }
      ]
    },
    {
      "cell_type": "code",
      "source": [
        "second_list = [\"one\", \"two\", \"three\"]"
      ],
      "metadata": {
        "id": "vSYzuZsY-_dY"
      },
      "execution_count": 5,
      "outputs": []
    },
    {
      "cell_type": "code",
      "source": [
        "print(my_list, second_list)"
      ],
      "metadata": {
        "colab": {
          "base_uri": "https://localhost:8080/"
        },
        "id": "CGweytqf-_gM",
        "outputId": "704b277d-3936-4168-ad0d-d99096f0bf23"
      },
      "execution_count": 6,
      "outputs": [
        {
          "output_type": "stream",
          "name": "stdout",
          "text": [
            "['Hello', 100, 23.47] ['one', 'two', 'three']\n"
          ]
        }
      ]
    },
    {
      "cell_type": "code",
      "source": [
        ""
      ],
      "metadata": {
        "id": "gc8LgQ2pA9Md"
      },
      "execution_count": null,
      "outputs": []
    },
    {
      "cell_type": "markdown",
      "source": [
        "## 2) Indexing in a list"
      ],
      "metadata": {
        "id": "OPjy65UlCG8a"
      }
    },
    {
      "cell_type": "code",
      "source": [
        "students = [\"Robert\", \"Chris\", \"Katrina\", \"Scarlett\"]"
      ],
      "metadata": {
        "id": "7zRvwuVKCN9s"
      },
      "execution_count": 7,
      "outputs": []
    },
    {
      "cell_type": "code",
      "source": [
        "students"
      ],
      "metadata": {
        "colab": {
          "base_uri": "https://localhost:8080/"
        },
        "id": "Z4woTHE7CXJn",
        "outputId": "9a2ca424-0704-4ecb-b460-a439c90ba312"
      },
      "execution_count": 8,
      "outputs": [
        {
          "output_type": "execute_result",
          "data": {
            "text/plain": [
              "['Robert', 'Chris', 'Katrina', 'Scarlett']"
            ]
          },
          "metadata": {},
          "execution_count": 8
        }
      ]
    },
    {
      "cell_type": "code",
      "source": [
        "students[0]"
      ],
      "metadata": {
        "colab": {
          "base_uri": "https://localhost:8080/",
          "height": 37
        },
        "id": "zdDHwec9Cbzm",
        "outputId": "86511ba7-0792-4bf2-efd5-27abea3d67fc"
      },
      "execution_count": 15,
      "outputs": [
        {
          "output_type": "execute_result",
          "data": {
            "text/plain": [
              "'Robert'"
            ],
            "application/vnd.google.colaboratory.intrinsic+json": {
              "type": "string"
            }
          },
          "metadata": {},
          "execution_count": 15
        }
      ]
    },
    {
      "cell_type": "code",
      "source": [
        "string1 = \"this is a string\""
      ],
      "metadata": {
        "id": "xoodNhG5Cbrs"
      },
      "execution_count": 10,
      "outputs": []
    },
    {
      "cell_type": "code",
      "source": [
        "string1"
      ],
      "metadata": {
        "colab": {
          "base_uri": "https://localhost:8080/",
          "height": 37
        },
        "id": "Hdyvul33CbiJ",
        "outputId": "631cff28-cdf0-4afb-9f7b-6de2e1b3e462"
      },
      "execution_count": 11,
      "outputs": [
        {
          "output_type": "execute_result",
          "data": {
            "text/plain": [
              "'this is a string'"
            ],
            "application/vnd.google.colaboratory.intrinsic+json": {
              "type": "string"
            }
          },
          "metadata": {},
          "execution_count": 11
        }
      ]
    },
    {
      "cell_type": "code",
      "source": [
        "string1[2]"
      ],
      "metadata": {
        "colab": {
          "base_uri": "https://localhost:8080/",
          "height": 37
        },
        "id": "LpkhgEo1CbcK",
        "outputId": "83f5e3fa-3ac4-46ca-aa7e-4f7f18beed4f"
      },
      "execution_count": 13,
      "outputs": [
        {
          "output_type": "execute_result",
          "data": {
            "text/plain": [
              "'i'"
            ],
            "application/vnd.google.colaboratory.intrinsic+json": {
              "type": "string"
            }
          },
          "metadata": {},
          "execution_count": 13
        }
      ]
    },
    {
      "cell_type": "markdown",
      "source": [
        "## 3) Editing the list's"
      ],
      "metadata": {
        "id": "Aq17TvzhCnjV"
      }
    },
    {
      "cell_type": "code",
      "source": [
        "students "
      ],
      "metadata": {
        "colab": {
          "base_uri": "https://localhost:8080/"
        },
        "id": "5BPY2GCCC1Px",
        "outputId": "dd15d9f2-efbb-4269-9626-b2e0c44c144c"
      },
      "execution_count": 25,
      "outputs": [
        {
          "output_type": "execute_result",
          "data": {
            "text/plain": [
              "['Sam', 'Chris', 'Katrina', 'Paul', 'Paul', 'Paul']"
            ]
          },
          "metadata": {},
          "execution_count": 25
        }
      ]
    },
    {
      "cell_type": "code",
      "source": [
        "##replace element\n",
        "students[0] = \"Sam\""
      ],
      "metadata": {
        "id": "FlrFj5qyC-Ux"
      },
      "execution_count": 20,
      "outputs": []
    },
    {
      "cell_type": "code",
      "source": [
        "##add values\n",
        "students.append(\"Paul\")\n",
        "students"
      ],
      "metadata": {
        "colab": {
          "base_uri": "https://localhost:8080/"
        },
        "id": "wwTlV-HZDGqx",
        "outputId": "db91b104-6627-4e38-efa5-500fc96d4b80"
      },
      "execution_count": 23,
      "outputs": [
        {
          "output_type": "execute_result",
          "data": {
            "text/plain": [
              "['Sam', 'Chris', 'Katrina', 'Paul', 'Paul', 'Paul']"
            ]
          },
          "metadata": {},
          "execution_count": 23
        }
      ]
    },
    {
      "cell_type": "code",
      "source": [
        "## Remove values\n",
        "students.remove(\"Paul\")\n",
        "students"
      ],
      "metadata": {
        "colab": {
          "base_uri": "https://localhost:8080/"
        },
        "id": "xflPwiEaDKbR",
        "outputId": "4cbb17e5-165f-444c-ea64-dde8d85798f2"
      },
      "execution_count": 26,
      "outputs": [
        {
          "output_type": "execute_result",
          "data": {
            "text/plain": [
              "['Sam', 'Chris', 'Katrina', 'Paul', 'Paul']"
            ]
          },
          "metadata": {},
          "execution_count": 26
        }
      ]
    },
    {
      "cell_type": "code",
      "source": [
        "list1 = [\"one\", \"two\", \"three\", \"four\", \"five\"]"
      ],
      "metadata": {
        "id": "2ataIQaFDcZ9"
      },
      "execution_count": 29,
      "outputs": []
    },
    {
      "cell_type": "code",
      "source": [
        "list1.pop(2)"
      ],
      "metadata": {
        "colab": {
          "base_uri": "https://localhost:8080/",
          "height": 37
        },
        "id": "FOW1ZdF6D0Hm",
        "outputId": "d766bed5-e0e3-4d0b-a743-a2802e9ef9df"
      },
      "execution_count": 30,
      "outputs": [
        {
          "output_type": "execute_result",
          "data": {
            "text/plain": [
              "'three'"
            ],
            "application/vnd.google.colaboratory.intrinsic+json": {
              "type": "string"
            }
          },
          "metadata": {},
          "execution_count": 30
        }
      ]
    },
    {
      "cell_type": "code",
      "source": [
        "list1"
      ],
      "metadata": {
        "colab": {
          "base_uri": "https://localhost:8080/"
        },
        "id": "u7hF2VLVD2Zv",
        "outputId": "86475e0e-2100-4486-bb6a-3b979e750862"
      },
      "execution_count": 31,
      "outputs": [
        {
          "output_type": "execute_result",
          "data": {
            "text/plain": [
              "['one', 'two', 'four', 'five']"
            ]
          },
          "metadata": {},
          "execution_count": 31
        }
      ]
    },
    {
      "cell_type": "markdown",
      "source": [
        "## 4)Add list into list"
      ],
      "metadata": {
        "id": "aBxBj0APD_oI"
      }
    },
    {
      "cell_type": "code",
      "source": [
        "color = [\"red\", \"blue\", \"green\", \"orange\"]"
      ],
      "metadata": {
        "id": "bQHFL88aEQSm"
      },
      "execution_count": 35,
      "outputs": []
    },
    {
      "cell_type": "code",
      "source": [
        "color"
      ],
      "metadata": {
        "colab": {
          "base_uri": "https://localhost:8080/"
        },
        "id": "EQU_8WNsEfGl",
        "outputId": "deaa3f5d-c7a3-46e8-fffd-cef1e803ce1a"
      },
      "execution_count": 36,
      "outputs": [
        {
          "output_type": "execute_result",
          "data": {
            "text/plain": [
              "['red', 'blue', 'green', 'orange']"
            ]
          },
          "metadata": {},
          "execution_count": 36
        }
      ]
    },
    {
      "cell_type": "code",
      "source": [
        "age = [21, 23, 25, 27]"
      ],
      "metadata": {
        "id": "dE0VFf0pEIFQ"
      },
      "execution_count": 32,
      "outputs": []
    },
    {
      "cell_type": "code",
      "source": [
        "age"
      ],
      "metadata": {
        "colab": {
          "base_uri": "https://localhost:8080/"
        },
        "id": "QccMVNABEH9n",
        "outputId": "6b7486c7-5902-4d5a-b5a2-3bae17a0184d"
      },
      "execution_count": 33,
      "outputs": [
        {
          "output_type": "execute_result",
          "data": {
            "text/plain": [
              "[21, 23, 25, 27]"
            ]
          },
          "metadata": {},
          "execution_count": 33
        }
      ]
    },
    {
      "cell_type": "code",
      "source": [
        "color.extend(age)"
      ],
      "metadata": {
        "id": "q0Jh5w3MEH0P"
      },
      "execution_count": 37,
      "outputs": []
    },
    {
      "cell_type": "code",
      "source": [
        "color"
      ],
      "metadata": {
        "colab": {
          "base_uri": "https://localhost:8080/"
        },
        "id": "4mKdwc9sEHtb",
        "outputId": "7ce4903f-371c-4fca-a0ef-da055196e76b"
      },
      "execution_count": 38,
      "outputs": [
        {
          "output_type": "execute_result",
          "data": {
            "text/plain": [
              "['red', 'blue', 'green', 'orange', 21, 23, 25, 27]"
            ]
          },
          "metadata": {},
          "execution_count": 38
        }
      ]
    },
    {
      "cell_type": "markdown",
      "source": [
        "## 5)Python in-build function with the list's"
      ],
      "metadata": {
        "id": "HTclPFLyEn6X"
      }
    },
    {
      "cell_type": "code",
      "source": [
        "even = [2, 4, 6, 8]\n",
        "odd = [1, 3, 5, 7, 9]"
      ],
      "metadata": {
        "id": "7s1zA6JZFBeY"
      },
      "execution_count": 41,
      "outputs": []
    },
    {
      "cell_type": "code",
      "source": [
        "numbers = even + odd"
      ],
      "metadata": {
        "id": "zBdJ3wi8FBT0"
      },
      "execution_count": 42,
      "outputs": []
    },
    {
      "cell_type": "code",
      "source": [
        "numbers"
      ],
      "metadata": {
        "colab": {
          "base_uri": "https://localhost:8080/"
        },
        "id": "0wDJAT0GFA9J",
        "outputId": "7a05bc2d-46c1-430b-fe5f-c4893e0d09ba"
      },
      "execution_count": 43,
      "outputs": [
        {
          "output_type": "execute_result",
          "data": {
            "text/plain": [
              "[2, 4, 6, 8, 1, 3, 5, 7, 9]"
            ]
          },
          "metadata": {},
          "execution_count": 43
        }
      ]
    },
    {
      "cell_type": "code",
      "source": [
        "print(sorted(numbers))"
      ],
      "metadata": {
        "colab": {
          "base_uri": "https://localhost:8080/"
        },
        "id": "F-bw_1u8FAv1",
        "outputId": "f500a4d3-9608-4107-d242-95fc6e887fca"
      },
      "execution_count": 44,
      "outputs": [
        {
          "output_type": "stream",
          "name": "stdout",
          "text": [
            "[1, 2, 3, 4, 5, 6, 7, 8, 9]\n"
          ]
        }
      ]
    },
    {
      "cell_type": "code",
      "source": [
        "len(numbers)"
      ],
      "metadata": {
        "colab": {
          "base_uri": "https://localhost:8080/"
        },
        "id": "72V7aw2fFAbL",
        "outputId": "1118a883-3a88-4677-cbf3-1b2eff361550"
      },
      "execution_count": 45,
      "outputs": [
        {
          "output_type": "execute_result",
          "data": {
            "text/plain": [
              "9"
            ]
          },
          "metadata": {},
          "execution_count": 45
        }
      ]
    },
    {
      "cell_type": "code",
      "source": [
        "max(numbers)"
      ],
      "metadata": {
        "colab": {
          "base_uri": "https://localhost:8080/"
        },
        "id": "opqW8eSGFpnu",
        "outputId": "825694c5-4609-43b3-9ef8-0c4728f92184"
      },
      "execution_count": 46,
      "outputs": [
        {
          "output_type": "execute_result",
          "data": {
            "text/plain": [
              "9"
            ]
          },
          "metadata": {},
          "execution_count": 46
        }
      ]
    },
    {
      "cell_type": "code",
      "source": [
        "min(numbers)"
      ],
      "metadata": {
        "colab": {
          "base_uri": "https://localhost:8080/"
        },
        "id": "OAEuqAKkFrmn",
        "outputId": "cc51c664-d941-4d97-fc24-52cd5f614fc2"
      },
      "execution_count": 47,
      "outputs": [
        {
          "output_type": "execute_result",
          "data": {
            "text/plain": [
              "1"
            ]
          },
          "metadata": {},
          "execution_count": 47
        }
      ]
    },
    {
      "cell_type": "code",
      "source": [
        "#"
      ],
      "metadata": {
        "id": "K4Bjkf9eFtt7"
      },
      "execution_count": null,
      "outputs": []
    }
  ]
}