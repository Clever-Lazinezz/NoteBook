{
  "nbformat": 4,
  "nbformat_minor": 0,
  "metadata": {
    "colab": {
      "name": "Iris.ipynb",
      "provenance": [],
      "collapsed_sections": [
        "Yff9o1CSo0Y1",
        "xgXooCzlo58H",
        "etdYl2L-o-x4",
        "6CrGRd2tpB01",
        "H0VCvKl5pBob",
        "5a1n5akZp3wQ",
        "ze2JFE3f8gN9",
        "ZhoPU7gl73dO",
        "g6ZOAYx58KF_",
        "dYI6bdKc-jZx",
        "U_MOeMtv-o46",
        "9OfdHP9aIVUB",
        "OSDCwyADH-w7",
        "Csc8-pZhowWG"
      ],
      "authorship_tag": "ABX9TyPyd2qcZbpA6/mBHaoht+Jx",
      "include_colab_link": true
    },
    "kernelspec": {
      "name": "python3",
      "display_name": "Python 3"
    },
    "language_info": {
      "name": "python"
    }
  },
  "cells": [
    {
      "cell_type": "markdown",
      "metadata": {
        "id": "view-in-github",
        "colab_type": "text"
      },
      "source": [
        "<a href=\"https://colab.research.google.com/github/Clever-Lazinezz/NoteBook/blob/main/Iris.ipynb\" target=\"_parent\"><img src=\"https://colab.research.google.com/assets/colab-badge.svg\" alt=\"Open In Colab\"/></a>"
      ]
    },
    {
      "cell_type": "markdown",
      "source": [
        "## Task 1: Identify the Problem"
      ],
      "metadata": {
        "id": "Yff9o1CSo0Y1"
      }
    },
    {
      "cell_type": "markdown",
      "source": [
        "There are three distinct classes which have the same data collected from them. Using various techniques, I want to create a model that will precisely predict the class given the data collected."
      ],
      "metadata": {
        "id": "bPQi96tzkjD3"
      }
    },
    {
      "cell_type": "markdown",
      "source": [
        "## Task 2: Load the Libraries"
      ],
      "metadata": {
        "id": "xgXooCzlo58H"
      }
    },
    {
      "cell_type": "code",
      "source": [
        "import pandas as pd\n",
        "import numpy as np\n",
        "import seaborn as sns\n",
        "import matplotlib.pyplot as plt\n",
        "sns.set()\n",
        "import plotly\n",
        "\n",
        "\"\"\"\n",
        "import cufflinks as cf # need to buy license for online use\n",
        "plt.style.use('ggplot')\n",
        "plt.rcParams['figure.figsize'] = (12,8)\n",
        "\n",
        "cf.go_offline() #allows for non-profit use of cufflinks\n",
        "\n",
        "\n",
        "\n",
        "from sklearn.linear_model import LinearRegression\n",
        "from sklearn.model_selection import train_test_split\n",
        "\"\"\""
      ],
      "metadata": {
        "id": "KUTqYfMdo-Tg",
        "colab": {
          "base_uri": "https://localhost:8080/",
          "height": 105
        },
        "outputId": "2c42eb85-7871-4ddb-9d25-1262994419ad"
      },
      "execution_count": null,
      "outputs": [
        {
          "output_type": "execute_result",
          "data": {
            "text/plain": [
              "\"\\nimport cufflinks as cf # need to buy license for online use\\nplt.style.use('ggplot')\\nplt.rcParams['figure.figsize'] = (12,8)\\n\\ncf.go_offline() #allows for non-profit use of cufflinks\\n\\n\\n\\nfrom sklearn.linear_model import LinearRegression\\nfrom sklearn.model_selection import train_test_split\\n\""
            ],
            "application/vnd.google.colaboratory.intrinsic+json": {
              "type": "string"
            }
          },
          "metadata": {},
          "execution_count": 1
        }
      ]
    },
    {
      "cell_type": "markdown",
      "source": [
        "## Task 3: Load the Data"
      ],
      "metadata": {
        "id": "etdYl2L-o-x4"
      }
    },
    {
      "cell_type": "code",
      "source": [
        "# https://www.sciencedirect.com/topics/mathematics/length-sepal"
      ],
      "metadata": {
        "id": "3BtNoqMC8XEa"
      },
      "execution_count": null,
      "outputs": []
    },
    {
      "cell_type": "code",
      "source": [
        "# will read damn near any type of file\n",
        "data = pd.read_csv('https://raw.githubusercontent.com/Clever-Lazinezz/ML-Data2/main/iris.csv')"
      ],
      "metadata": {
        "id": "Afvy38C-peYA"
      },
      "execution_count": null,
      "outputs": []
    },
    {
      "cell_type": "markdown",
      "source": [
        "## Task 4: EDA(Exploratory Data Analysis)"
      ],
      "metadata": {
        "id": "6CrGRd2tpB01"
      }
    },
    {
      "cell_type": "code",
      "source": [
        "data.head()"
      ],
      "metadata": {
        "id": "nUKU_f781l4Q"
      },
      "execution_count": null,
      "outputs": []
    },
    {
      "cell_type": "code",
      "source": [
        "# Thank you for no null values\n",
        "data.info()"
      ],
      "metadata": {
        "id": "-TFqPfv1pjby"
      },
      "execution_count": null,
      "outputs": []
    },
    {
      "cell_type": "code",
      "source": [
        "data.describe()"
      ],
      "metadata": {
        "id": "3xGTswJQpl0E"
      },
      "execution_count": null,
      "outputs": []
    },
    {
      "cell_type": "code",
      "source": [
        "data.columns"
      ],
      "metadata": {
        "id": "r-2kqCsIpPgW"
      },
      "execution_count": null,
      "outputs": []
    },
    {
      "cell_type": "code",
      "source": [
        "# I don't like altering the original dataset - allows me to recall the original data at any time\n",
        "train = data"
      ],
      "metadata": {
        "id": "1eQe03r3KNbF"
      },
      "execution_count": 27,
      "outputs": []
    },
    {
      "cell_type": "code",
      "source": [
        "# Is having zero okay?\n",
        "# It was fine in other logistic models, but those only had a true(1) and a false(0)\n",
        "train['Class'] = train['Class'].replace(['Setosa'],'0')\n",
        "train['Class'] = train['Class'].replace(['Versicolor'],'1')\n",
        "train['Class'] = train['Class'].replace(['Virginica'],'2')"
      ],
      "metadata": {
        "id": "GtsacEiMw-zv"
      },
      "execution_count": 30,
      "outputs": []
    },
    {
      "cell_type": "markdown",
      "source": [
        "## Task 5: Data Visualization"
      ],
      "metadata": {
        "id": "H0VCvKl5pBob"
      }
    },
    {
      "cell_type": "code",
      "source": [
        "# Visualizes the most common petal widths, and shows possible needs for scaling\n",
        "sns.countplot(x='Petal_Width', data=data)"
      ],
      "metadata": {
        "id": "ODpMtEGhMNre"
      },
      "execution_count": null,
      "outputs": []
    },
    {
      "cell_type": "code",
      "source": [
        "# X-axis is the index and Y-axis is the length in centimeters\n",
        "# Shows growth patterns for each column \n",
        "sns.set_theme(style=\"whitegrid\")\n",
        "sns.lineplot(data=data, palette=\"tab10\", linewidth=2.5)"
      ],
      "metadata": {
        "id": "LUGF0UpSnwYr"
      },
      "execution_count": null,
      "outputs": []
    },
    {
      "cell_type": "code",
      "source": [
        "# Provides a general overview of how the data of each Class type compares to each other.\n",
        "# Helps see which data column has the largest correlation with a given class\n",
        "sns.pairplot(data, hue='Class', palette='magma')"
      ],
      "metadata": {
        "id": "pgBFAjr3m2I0"
      },
      "execution_count": null,
      "outputs": []
    },
    {
      "cell_type": "code",
      "source": [
        ""
      ],
      "metadata": {
        "id": "1QgbNezmYcBB"
      },
      "execution_count": null,
      "outputs": []
    },
    {
      "cell_type": "markdown",
      "source": [
        "# Task 6,7,8,9,10"
      ],
      "metadata": {
        "id": "-BYks1rFVGMJ"
      }
    },
    {
      "cell_type": "markdown",
      "source": [
        "# Linear Regression on the Data"
      ],
      "metadata": {
        "id": "5a1n5akZp3wQ"
      }
    },
    {
      "cell_type": "markdown",
      "source": [
        "## First Data Split"
      ],
      "metadata": {
        "id": "ze2JFE3f8gN9"
      }
    },
    {
      "cell_type": "code",
      "source": [
        "from sklearn.model_selection import train_test_split"
      ],
      "metadata": {
        "id": "AsaliV3hszFK"
      },
      "execution_count": 175,
      "outputs": []
    },
    {
      "cell_type": "code",
      "source": [
        "X_train, X_test, y_train, y_test = train_test_split(train.drop('Class', axis=1), data['Class'], test_size = 0.33)"
      ],
      "metadata": {
        "id": "Vz5YDAOzvumV"
      },
      "execution_count": 226,
      "outputs": []
    },
    {
      "cell_type": "code",
      "source": [
        "from sklearn.linear_model import LogisticRegression"
      ],
      "metadata": {
        "id": "h7RX07uhvTjB"
      },
      "execution_count": 177,
      "outputs": []
    },
    {
      "cell_type": "code",
      "source": [
        "logmodel = LogisticRegression()\n",
        "logmodel.fit(X_train, y_train)\n",
        "predictions = logmodel.predict(X_test)"
      ],
      "metadata": {
        "id": "PB6278oHrIux"
      },
      "execution_count": 227,
      "outputs": []
    },
    {
      "cell_type": "code",
      "source": [
        "from sklearn.metrics import classification_report, confusion_matrix"
      ],
      "metadata": {
        "id": "SC0UgqIrv1fO"
      },
      "execution_count": 228,
      "outputs": []
    },
    {
      "cell_type": "code",
      "source": [
        "# Predicitions based on entire dataset\n",
        "print(classification_report(y_test, predictions))\n",
        "print(confusion_matrix(y_test, predictions))"
      ],
      "metadata": {
        "id": "1yYThGn_v9lB"
      },
      "execution_count": null,
      "outputs": []
    },
    {
      "cell_type": "markdown",
      "source": [
        "## Second Data Split"
      ],
      "metadata": {
        "id": "ZhoPU7gl73dO"
      }
    },
    {
      "cell_type": "code",
      "source": [
        "train.info()"
      ],
      "metadata": {
        "id": "1NjHKSDZ6kpQ"
      },
      "execution_count": null,
      "outputs": []
    },
    {
      "cell_type": "code",
      "source": [
        "# iloc creates data split\n",
        "# predictions made using only sepal data\n",
        "X = train.drop('Class', axis=1)\n",
        "X = train.iloc[:, [0, 1]].values\n",
        "y = train.iloc[:, -1].values\n"
      ],
      "metadata": {
        "id": "4iKJyV4N0ttA"
      },
      "execution_count": 182,
      "outputs": []
    },
    {
      "cell_type": "code",
      "source": [
        "X_train, X_test, y_train, y_test = train_test_split(X, y, test_size = 0.33, random_state = 0)"
      ],
      "metadata": {
        "id": "x60IIqLxyxSw"
      },
      "execution_count": 183,
      "outputs": []
    },
    {
      "cell_type": "code",
      "source": [
        "logmodel = LogisticRegression()\n",
        "logmodel.fit(X_train, y_train)\n",
        "predictions = logmodel.predict(X_test)"
      ],
      "metadata": {
        "id": "5GMqt2B8zAoI"
      },
      "execution_count": 184,
      "outputs": []
    },
    {
      "cell_type": "code",
      "source": [
        "\"\"\"\n",
        "Predictions were made using only sepal data, leading to a decrease in precision.\n",
        "Primarily Class '1' & '2' were affected, implying that petal data may have a \n",
        "higher correlation to predicting the class.\n",
        "\"\"\"\n",
        "print(classification_report(y_test, predictions))\n",
        "print(confusion_matrix(y_test, predictions))"
      ],
      "metadata": {
        "id": "fdYN3zI95Df_"
      },
      "execution_count": null,
      "outputs": []
    },
    {
      "cell_type": "markdown",
      "source": [
        "## Third Data Split"
      ],
      "metadata": {
        "id": "g6ZOAYx58KF_"
      }
    },
    {
      "cell_type": "code",
      "source": [
        "# predictions made using only pedal data\n",
        "X = train.drop('Class', axis=1)\n",
        "X = train.iloc[:, [2, 4]].values\n",
        "y = train.iloc[:, -1].values"
      ],
      "metadata": {
        "id": "e10KF-i55DVh"
      },
      "execution_count": 187,
      "outputs": []
    },
    {
      "cell_type": "code",
      "source": [
        "X_train, X_test, y_train, y_test = train_test_split(X, y, test_size = 0.33, random_state = 0)"
      ],
      "metadata": {
        "id": "k7-mq-SW7-8m"
      },
      "execution_count": 188,
      "outputs": []
    },
    {
      "cell_type": "code",
      "source": [
        "logmodel = LogisticRegression()\n",
        "logmodel.fit(X_train, y_train)\n",
        "predictions = logmodel.predict(X_test)"
      ],
      "metadata": {
        "id": "MbUS7DAL7_EG"
      },
      "execution_count": 189,
      "outputs": []
    },
    {
      "cell_type": "code",
      "source": [
        "\"\"\"\n",
        "This model uses only pedal data. Either pedal data is extremely accurate for \n",
        "predicting class type or an error was made. Given the scientific background of the \n",
        "data, it is reasonable to believe that experimental groups were created to be \n",
        "diffrentiable. Thus having distinct species, that may have distinct features. \n",
        "Further analysis is required.\n",
        "\"\"\"\n",
        "print(classification_report(y_test, predictions))\n",
        "print(confusion_matrix(y_test, predictions))"
      ],
      "metadata": {
        "id": "3U7MVS187_MX"
      },
      "execution_count": null,
      "outputs": []
    },
    {
      "cell_type": "markdown",
      "source": [
        "# KNN Analysis on the Data"
      ],
      "metadata": {
        "id": "dYI6bdKc-jZx"
      }
    },
    {
      "cell_type": "markdown",
      "source": [
        "KNeighborsClassifier implements classification based on voting by nearest k-neighbors of target point(k)"
      ],
      "metadata": {
        "id": "MSCJToOuMzYi"
      }
    },
    {
      "cell_type": "markdown",
      "source": [
        "## First Data Split"
      ],
      "metadata": {
        "id": "U_MOeMtv-o46"
      }
    },
    {
      "cell_type": "code",
      "source": [
        "df1 = data"
      ],
      "metadata": {
        "id": "VFgREG0bAYne"
      },
      "execution_count": 164,
      "outputs": []
    },
    {
      "cell_type": "code",
      "source": [
        "from sklearn.preprocessing import StandardScaler"
      ],
      "metadata": {
        "id": "NNwjlmKF-skm"
      },
      "execution_count": 165,
      "outputs": []
    },
    {
      "cell_type": "code",
      "source": [
        "scaler = StandardScaler()"
      ],
      "metadata": {
        "id": "0iIiFjT0AMhV"
      },
      "execution_count": 166,
      "outputs": []
    },
    {
      "cell_type": "code",
      "source": [
        "scaler.fit(df1.drop('Class', axis=1))\n",
        "scaled_features = scaler.transform(df1.drop('Class', axis=1))\n",
        "df_feat = pd.DataFrame(scaled_features, columns = df1.columns[:-1])"
      ],
      "metadata": {
        "id": "aG9zC2VmAMeG"
      },
      "execution_count": 167,
      "outputs": []
    },
    {
      "cell_type": "code",
      "source": [
        "df_feat.head()"
      ],
      "metadata": {
        "id": "G43E6wGuAMat"
      },
      "execution_count": null,
      "outputs": []
    },
    {
      "cell_type": "code",
      "source": [
        "X_train, X_test, y_train, y_test = train_test_split(scaled_features, df1['Class'], test_size = 0.25, random_state = 0)"
      ],
      "metadata": {
        "id": "2jI9_3PTAMW8"
      },
      "execution_count": 169,
      "outputs": []
    },
    {
      "cell_type": "code",
      "source": [
        "from sklearn.neighbors import KNeighborsClassifier"
      ],
      "metadata": {
        "id": "RjvDgME4AMLM"
      },
      "execution_count": 170,
      "outputs": []
    },
    {
      "cell_type": "code",
      "source": [
        "knn = KNeighborsClassifier(n_neighbors=1)\n",
        "knn.fit(X_train,y_train)\n",
        "pred = knn.predict(X_test)"
      ],
      "metadata": {
        "id": "u08FDXfUA4Mx"
      },
      "execution_count": 171,
      "outputs": []
    },
    {
      "cell_type": "markdown",
      "source": [
        "### Scaled Data Results"
      ],
      "metadata": {
        "id": "9OfdHP9aIVUB"
      }
    },
    {
      "cell_type": "markdown",
      "source": [
        "Scaling is used when the data is 'all over the place'; however, this data was recorded very well. This makes sense this was a professional scientific experiment."
      ],
      "metadata": {
        "id": "T7VSOwDqJJ43"
      }
    },
    {
      "cell_type": "markdown",
      "source": [
        "Since the first report had its test values look at only 1 neighboring value, they were less likely to be adjusted. This ended up in a higher precision score than the second report. Remember, precision is a measurment of how close data is to each other, or some other target point(ex. line of best fit). This is different from accuracy in sciences."
      ],
      "metadata": {
        "id": "MRl5utryOFAJ"
      }
    },
    {
      "cell_type": "code",
      "source": [
        "print(classification_report(y_test,pred))\n",
        "print(confusion_matrix(y_test, pred))"
      ],
      "metadata": {
        "id": "l86wzsNwCe7C"
      },
      "execution_count": null,
      "outputs": []
    },
    {
      "cell_type": "code",
      "source": [
        "\n",
        "knn = KNeighborsClassifier(n_neighbors=20)\n",
        "knn.fit(X_train,y_train)\n",
        "pred = knn.predict(X_test)"
      ],
      "metadata": {
        "id": "cV1CVIQaCoKP"
      },
      "execution_count": 173,
      "outputs": []
    },
    {
      "cell_type": "code",
      "source": [
        "print(classification_report(y_test,pred))\n",
        "print(confusion_matrix(y_test, pred))"
      ],
      "metadata": {
        "id": "9deMe2mbCoAi"
      },
      "execution_count": null,
      "outputs": []
    },
    {
      "cell_type": "markdown",
      "source": [
        "## Second Data Split"
      ],
      "metadata": {
        "id": "OSDCwyADH-w7"
      }
    },
    {
      "cell_type": "code",
      "source": [
        "X = df1.drop('Class', axis=1)\n",
        "X = df1.iloc[:, [0, 1]].values\n",
        "y = df1.iloc[:, -1].values\n"
      ],
      "metadata": {
        "id": "iWfNP9lnJRvw"
      },
      "execution_count": 217,
      "outputs": []
    },
    {
      "cell_type": "code",
      "source": [
        "X_train, X_test, y_train, y_test = train_test_split(X, y, test_size = 0.25, random_state = 0)"
      ],
      "metadata": {
        "id": "uD1Yq4d2H-bC"
      },
      "execution_count": 218,
      "outputs": []
    },
    {
      "cell_type": "code",
      "source": [
        "knn = KNeighborsClassifier(n_neighbors=1)\n",
        "knn.fit(X_train,y_train)\n",
        "pred = knn.predict(X_test)"
      ],
      "metadata": {
        "id": "UD3aAHOSJRia"
      },
      "execution_count": 219,
      "outputs": []
    },
    {
      "cell_type": "code",
      "source": [
        "# This model was fed only half the total data. It's notable that \n",
        "# the precision of Class '2', is the most affected. It's reasonable \n",
        "# to theorize that data for Class '2' could be more of a cluster for \n",
        "# the selected columns of data used to test the model.\n",
        "print(classification_report(y_test,pred))"
      ],
      "metadata": {
        "id": "9BxDizWULdan"
      },
      "execution_count": null,
      "outputs": []
    },
    {
      "cell_type": "code",
      "source": [
        "df1.head()"
      ],
      "metadata": {
        "id": "PVwbzdw2ZoU8"
      },
      "execution_count": null,
      "outputs": []
    },
    {
      "cell_type": "markdown",
      "source": [
        "Class '0' has a larger sepal width growth than sepal length... The cluster for Class '1' and ESPECIALLY Class '2' is larger in the first model below; this corresponds with my hypothesis that \"that data for Class '2' could be more of a cluster for the selected columns of data used to test the model"
      ],
      "metadata": {
        "id": "I6-j8jJxjAcq"
      }
    },
    {
      "cell_type": "code",
      "source": [
        "sns.lmplot(data=df1,x='Sepal_Length', y='Sepal_Width', hue='Class')"
      ],
      "metadata": {
        "id": "oLB0KlYNZOVq"
      },
      "execution_count": null,
      "outputs": []
    },
    {
      "cell_type": "markdown",
      "source": [
        "It would be reasonable to hypothesis a high precision given the cluster of Classes '0' and '1' are relatively tightly spaced. However, Class '2' would run into similar issues."
      ],
      "metadata": {
        "id": "mg6FJYlrjt0p"
      }
    },
    {
      "cell_type": "code",
      "source": [
        "sns.lmplot(data=df1,x='Petal_Length', y='Petal_Width', hue='Class')"
      ],
      "metadata": {
        "colab": {
          "base_uri": "https://localhost:8080/",
          "height": 382
        },
        "id": "im0CbIrbZ0C1",
        "outputId": "42fd91f1-522d-47d5-ff0f-f2fed100493b"
      },
      "execution_count": 225,
      "outputs": [
        {
          "output_type": "execute_result",
          "data": {
            "text/plain": [
              "<seaborn.axisgrid.FacetGrid at 0x7f6f7acfd810>"
            ]
          },
          "metadata": {},
          "execution_count": 225
        },
        {
          "output_type": "display_data",
          "data": {
            "text/plain": [
              "<Figure size 406.6x360 with 1 Axes>"
            ],
            "image/png": "[encoded data removed]"
          },
          "metadata": {}
        }
      ]
    },
    {
      "cell_type": "markdown",
      "source": [
        "# SVM Model of Data"
      ],
      "metadata": {
        "id": "Csc8-pZhowWG"
      }
    },
    {
      "cell_type": "code",
      "source": [
        "X = data.iloc[:,:-1]\n",
        "y = data.iloc[:, -1].values\n",
        "X_train, X_test, y_train, y_test = train_test_split(X, y, test_size = 0.33, random_state = 0)"
      ],
      "metadata": {
        "id": "xrY-iv8Mo4aJ"
      },
      "execution_count": 235,
      "outputs": []
    },
    {
      "cell_type": "code",
      "source": [
        "from sklearn.svm import SVC"
      ],
      "metadata": {
        "id": "NXeIuShEo4Ub"
      },
      "execution_count": 232,
      "outputs": []
    },
    {
      "cell_type": "code",
      "source": [
        "classifier = SVC(kernel = 'linear', random_state = 0)\n",
        "classifier.fit(X_train, y_train)\n",
        "y_pred = classifier.predict(X_test)"
      ],
      "metadata": {
        "id": "5tcoaJAVo4Ow"
      },
      "execution_count": 233,
      "outputs": []
    },
    {
      "cell_type": "code",
      "source": [
        "cm = confusion_matrix(y_test, y_pred)\n",
        "print(cm)"
      ],
      "metadata": {
        "colab": {
          "base_uri": "https://localhost:8080/"
        },
        "id": "dRJcVLLeo4JC",
        "outputId": "38c26f08-be40-4190-8f58-549b5fb8bad3"
      },
      "execution_count": 234,
      "outputs": [
        {
          "output_type": "stream",
          "name": "stdout",
          "text": [
            "[[13  0  0]\n",
            " [ 0 15  1]\n",
            " [ 0  0  9]]\n"
          ]
        }
      ]
    },
    {
      "cell_type": "code",
      "source": [
        "from sklearn.model_selection import cross_val_score\n",
        "accuracies = cross_val_score(estimator = classifier, X = X_train, y = y_train, cv = 10)\n",
        "print(\"Accuracy: {:.2f} %\".format(accuracies.mean()*100))\n",
        "print(\"Standard Deviation: {:.2f} %\".format(accuracies.std()*100))"
      ],
      "metadata": {
        "colab": {
          "base_uri": "https://localhost:8080/"
        },
        "id": "KoNa-lvTo4Df",
        "outputId": "802d7064-453a-4db4-cb8a-7b6c3dcec127"
      },
      "execution_count": 236,
      "outputs": [
        {
          "output_type": "stream",
          "name": "stdout",
          "text": [
            "Accuracy: 98.00 %\n",
            "Standard Deviation: 4.00 %\n"
          ]
        }
      ]
    }
  ]
}