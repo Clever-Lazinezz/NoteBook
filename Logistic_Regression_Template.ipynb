{
  "nbformat": 4,
  "nbformat_minor": 0,
  "metadata": {
    "colab": {
      "name": "Logistic Regression Template.ipynb",
      "provenance": [],
      "collapsed_sections": [
        "Yff9o1CSo0Y1",
        "xgXooCzlo58H",
        "etdYl2L-o-x4",
        "6CrGRd2tpB01",
        "IvdTTgXb3oww",
        "H0VCvKl5pBob",
        "8T2SwPcgpT8K",
        "KIJ4841UpcE7",
        "tKTp81Mgp0Vx",
        "5a1n5akZp3wQ",
        "bMFqL48J_36m",
        "EbKqA0eqvf_1",
        "OqxdRQFhx9xD",
        "I9rY-oizp4Dk"
      ],
      "authorship_tag": "ABX9TyP7UvXZGvXkfRuuZ8qjZcR9",
      "include_colab_link": true
    },
    "kernelspec": {
      "name": "python3",
      "display_name": "Python 3"
    },
    "language_info": {
      "name": "python"
    }
  },
  "cells": [
    {
      "cell_type": "markdown",
      "metadata": {
        "id": "view-in-github",
        "colab_type": "text"
      },
      "source": [
        "<a href=\"https://colab.research.google.com/github/Clever-Lazinezz/NoteBook/blob/main/Logistic_Regression_Template.ipynb\" target=\"_parent\"><img src=\"https://colab.research.google.com/assets/colab-badge.svg\" alt=\"Open In Colab\"/></a>"
      ]
    },
    {
      "cell_type": "markdown",
      "source": [
        "## Task 1: Identify the Problem"
      ],
      "metadata": {
        "id": "Yff9o1CSo0Y1"
      }
    },
    {
      "cell_type": "markdown",
      "source": [
        "### "
      ],
      "metadata": {
        "id": "hZd_4JZ6o6gm"
      }
    },
    {
      "cell_type": "markdown",
      "source": [
        "## Task 2: Load the Libraries"
      ],
      "metadata": {
        "id": "xgXooCzlo58H"
      }
    },
    {
      "cell_type": "code",
      "source": [
        "import pandas as pd\n",
        "import numpy as np\n",
        "import seaborn as sns\n",
        "import matplotlib.pyplot as plt\n",
        "sns.set()\n",
        "import plotly\n",
        "import cufflinks as cf # need to buy license for online use\n",
        "plt.style.use('ggplot')\n",
        "plt.rcParams['figure.figsize'] = (12,8)\n",
        "\n",
        "cf.go_offline() #allows for non-profit use of cufflinks\n",
        "\n",
        "\n",
        "\n",
        "from sklearn.linear_model import LinearRegression\n",
        "from sklearn.model_selection import train_test_split"
      ],
      "metadata": {
        "id": "KUTqYfMdo-Tg",
        "colab": {
          "base_uri": "https://localhost:8080/",
          "height": 37
        },
        "outputId": "17ea3464-a75e-42d3-adeb-ab2be2afbd79"
      },
      "execution_count": null,
      "outputs": [
        {
          "output_type": "display_data",
          "data": {
            "text/html": [
              "        <script type=\"text/javascript\">\n",
              "        window.PlotlyConfig = {MathJaxConfig: 'local'};\n",
              "        if (window.MathJax) {MathJax.Hub.Config({SVG: {font: \"STIX-Web\"}});}\n",
              "        if (typeof require !== 'undefined') {\n",
              "        require.undef(\"plotly\");\n",
              "        requirejs.config({\n",
              "            paths: {\n",
              "                'plotly': ['https://cdn.plot.ly/plotly-2.8.3.min']\n",
              "            }\n",
              "        });\n",
              "        require(['plotly'], function(Plotly) {\n",
              "            window._Plotly = Plotly;\n",
              "        });\n",
              "        }\n",
              "        </script>\n",
              "        "
            ]
          },
          "metadata": {}
        }
      ]
    },
    {
      "cell_type": "markdown",
      "source": [
        "## Task 3: Load the Data"
      ],
      "metadata": {
        "id": "etdYl2L-o-x4"
      }
    },
    {
      "cell_type": "code",
      "source": [
        "# !wget https://raw.githubusercontent.com/msiddalingaiah/MachineLearning/master/Regression/data/kc_house_data.csv -O kc_house_data.csv"
      ],
      "metadata": {
        "id": "K26WtZG8pB-L"
      },
      "execution_count": null,
      "outputs": []
    },
    {
      "cell_type": "code",
      "source": [
        "# will read damn near any type of file\n",
        "data = pd.read_csv('')"
      ],
      "metadata": {
        "id": "Afvy38C-peYA"
      },
      "execution_count": null,
      "outputs": []
    },
    {
      "cell_type": "markdown",
      "source": [
        "## Task 4: EDA(Exploratory Data Analysis)"
      ],
      "metadata": {
        "id": "6CrGRd2tpB01"
      }
    },
    {
      "cell_type": "code",
      "source": [
        "data.head()"
      ],
      "metadata": {
        "id": "nUKU_f781l4Q"
      },
      "execution_count": null,
      "outputs": []
    },
    {
      "cell_type": "code",
      "source": [
        "data.info()"
      ],
      "metadata": {
        "id": "-TFqPfv1pjby"
      },
      "execution_count": null,
      "outputs": []
    },
    {
      "cell_type": "code",
      "source": [
        "data.describe()"
      ],
      "metadata": {
        "id": "3xGTswJQpl0E"
      },
      "execution_count": null,
      "outputs": []
    },
    {
      "cell_type": "code",
      "source": [
        "data.columns"
      ],
      "metadata": {
        "id": "r-2kqCsIpPgW"
      },
      "execution_count": null,
      "outputs": []
    },
    {
      "cell_type": "code",
      "source": [
        "data.isnull()"
      ],
      "metadata": {
        "id": "6XgzJ9jhpPP6"
      },
      "execution_count": null,
      "outputs": []
    },
    {
      "cell_type": "code",
      "source": [
        "train = data"
      ],
      "metadata": {
        "id": "1eQe03r3KNbF"
      },
      "execution_count": null,
      "outputs": []
    },
    {
      "cell_type": "code",
      "source": [
        "train.isnull().value_counts()"
      ],
      "metadata": {
        "id": "TOhwGN9uIk-D"
      },
      "execution_count": null,
      "outputs": []
    },
    {
      "cell_type": "code",
      "source": [
        "sns.heatmap(train.isnull(), yticklabels=False,cbar=False,cmap='viridis')"
      ],
      "metadata": {
        "id": "nI_5NI-vIxKt"
      },
      "execution_count": null,
      "outputs": []
    },
    {
      "cell_type": "code",
      "source": [
        "# 'Apply' is a built in panda operation to operate on columns\n",
        "train['Age'] = train[['Age', 'Pclass']].apply(input_age, axis=1)"
      ],
      "metadata": {
        "id": "JckbrtsOpvBa"
      },
      "execution_count": null,
      "outputs": []
    },
    {
      "cell_type": "markdown",
      "source": [
        "### Create the Data Split"
      ],
      "metadata": {
        "id": "IvdTTgXb3oww"
      }
    },
    {
      "cell_type": "code",
      "source": [
        "#Split the data into train sets and test sets\n",
        "x_train,x_test,y_train,y_test = train_test_split(x,y,test_size=0.3,random_state=0)"
      ],
      "metadata": {
        "id": "1EygJkch3vD1"
      },
      "execution_count": null,
      "outputs": []
    },
    {
      "cell_type": "markdown",
      "source": [
        "## Task 5: Data Visualization"
      ],
      "metadata": {
        "id": "H0VCvKl5pBob"
      }
    },
    {
      "cell_type": "code",
      "source": [
        ""
      ],
      "metadata": {
        "id": "ODpMtEGhMNre"
      },
      "execution_count": null,
      "outputs": []
    },
    {
      "cell_type": "markdown",
      "source": [
        "## Task 6: Compute the Cost Function"
      ],
      "metadata": {
        "id": "8T2SwPcgpT8K"
      }
    },
    {
      "cell_type": "code",
      "source": [
        "\n",
        "# https://www.analyticsvidhya.com/blog/2021/02/cost-function-is-no-rocket-science/"
      ],
      "metadata": {
        "id": "muYForiApcP-"
      },
      "execution_count": null,
      "outputs": []
    },
    {
      "cell_type": "code",
      "source": [
        "# Not required"
      ],
      "metadata": {
        "id": "9aCdrHiQrigA"
      },
      "execution_count": null,
      "outputs": []
    },
    {
      "cell_type": "markdown",
      "source": [
        "## Task 7: Compute the Gradient Descent"
      ],
      "metadata": {
        "id": "KIJ4841UpcE7"
      }
    },
    {
      "cell_type": "code",
      "source": [
        "# https://en.wikipedia.org/wiki/Gradient_descent\n",
        "# https://towardsdatascience.com/gradient-descent-algorithm-a-deep-dive-cf04e8115f21\n",
        "# https://towardsdatascience.com/gradient-descent-in-python-a0d07285742f"
      ],
      "metadata": {
        "id": "D2krHcSkpbuO"
      },
      "execution_count": null,
      "outputs": []
    },
    {
      "cell_type": "code",
      "source": [
        "# Not required"
      ],
      "metadata": {
        "id": "mNpKdf8szN0y"
      },
      "execution_count": null,
      "outputs": []
    },
    {
      "cell_type": "markdown",
      "source": [
        "## Task 8: Visualizing the Cost Function"
      ],
      "metadata": {
        "id": "tKTp81Mgp0Vx"
      }
    },
    {
      "cell_type": "code",
      "source": [
        "from sklearn.model_selection import train_test_split"
      ],
      "metadata": {
        "id": "UOEU9oOjp3dG"
      },
      "execution_count": null,
      "outputs": []
    },
    {
      "cell_type": "code",
      "source": [
        "X_train, X_test, y_train, y_test = train_test_split(train.drop('Survived', axis=1), train['Survived'], test_size=0.30, random_state=101)"
      ],
      "metadata": {
        "id": "Mk3cKO9g14Cf"
      },
      "execution_count": null,
      "outputs": []
    },
    {
      "cell_type": "markdown",
      "source": [
        "## Task 9: Conduct the Linear Regression on the Data"
      ],
      "metadata": {
        "id": "5a1n5akZp3wQ"
      }
    },
    {
      "cell_type": "markdown",
      "source": [
        "### Import the Adequate Model"
      ],
      "metadata": {
        "id": "bMFqL48J_36m"
      }
    },
    {
      "cell_type": "code",
      "source": [
        "from sklearn.linear_model import LogisticRegression"
      ],
      "metadata": {
        "id": "h7RX07uhvTjB"
      },
      "execution_count": null,
      "outputs": []
    },
    {
      "cell_type": "code",
      "source": [
        "logmodel = LogisticRegression()"
      ],
      "metadata": {
        "id": "CthsOC2jvu9o"
      },
      "execution_count": null,
      "outputs": []
    },
    {
      "cell_type": "markdown",
      "source": [
        "### Train the Model created by the fit method"
      ],
      "metadata": {
        "id": "EbKqA0eqvf_1"
      }
    },
    {
      "cell_type": "code",
      "source": [
        "logmodel.fit(X_train, y_train)"
      ],
      "metadata": {
        "colab": {
          "base_uri": "https://localhost:8080/"
        },
        "id": "LoO19wMTvkMO",
        "outputId": "c0c1af2e-8732-4421-c0a0-3fbced541603"
      },
      "execution_count": null,
      "outputs": [
        {
          "output_type": "stream",
          "name": "stderr",
          "text": [
            "/usr/local/lib/python3.7/dist-packages/sklearn/linear_model/_logistic.py:818: ConvergenceWarning:\n",
            "\n",
            "lbfgs failed to converge (status=1):\n",
            "STOP: TOTAL NO. of ITERATIONS REACHED LIMIT.\n",
            "\n",
            "Increase the number of iterations (max_iter) or scale the data as shown in:\n",
            "    https://scikit-learn.org/stable/modules/preprocessing.html\n",
            "Please also refer to the documentation for alternative solver options:\n",
            "    https://scikit-learn.org/stable/modules/linear_model.html#logistic-regression\n",
            "\n"
          ]
        },
        {
          "output_type": "execute_result",
          "data": {
            "text/plain": [
              "LogisticRegression()"
            ]
          },
          "metadata": {},
          "execution_count": 53
        }
      ]
    },
    {
      "cell_type": "markdown",
      "source": [
        "### Evaluate the Model"
      ],
      "metadata": {
        "id": "OqxdRQFhx9xD"
      }
    },
    {
      "cell_type": "code",
      "source": [
        "predictions = logmodel.predict(X_test)"
      ],
      "metadata": {
        "id": "GSNseiTrx8-D"
      },
      "execution_count": null,
      "outputs": []
    },
    {
      "cell_type": "code",
      "source": [
        "from sklearn.metrics import classification_report"
      ],
      "metadata": {
        "id": "SC0UgqIrv1fO"
      },
      "execution_count": null,
      "outputs": []
    },
    {
      "cell_type": "code",
      "source": [
        "print(classification_report(y_test, predictions))"
      ],
      "metadata": {
        "colab": {
          "base_uri": "https://localhost:8080/"
        },
        "id": "1yYThGn_v9lB",
        "outputId": "f7ce50e4-b24d-4cf5-ce6b-94b316f4775f"
      },
      "execution_count": null,
      "outputs": [
        {
          "output_type": "stream",
          "name": "stdout",
          "text": [
            "              precision    recall  f1-score   support\n",
            "\n",
            "           0       0.76      0.87      0.81       154\n",
            "           1       0.78      0.63      0.70       114\n",
            "\n",
            "    accuracy                           0.77       268\n",
            "   macro avg       0.77      0.75      0.76       268\n",
            "weighted avg       0.77      0.77      0.76       268\n",
            "\n"
          ]
        }
      ]
    },
    {
      "cell_type": "markdown",
      "source": [
        "## Task 10: Making Predictions"
      ],
      "metadata": {
        "id": "I9rY-oizp4Dk"
      }
    },
    {
      "cell_type": "code",
      "source": [
        "print(logmodel.score(X_test, y_test))\n",
        "pp = logmodel.predict(X_test)\n",
        "print('Survived: ', sum(pp!=0))\n",
        "print('Not Survived: ', sum(pp=0))"
      ],
      "metadata": {
        "id": "AQBBsyZh7Em7"
      },
      "execution_count": null,
      "outputs": []
    }
  ]
}