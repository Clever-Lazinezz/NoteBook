{
  "nbformat": 4,
  "nbformat_minor": 0,
  "metadata": {
    "colab": {
      "name": " Global Land Temp Analysis.ipynb",
      "provenance": [],
      "collapsed_sections": [
        "Yff9o1CSo0Y1",
        "xgXooCzlo58H",
        "etdYl2L-o-x4",
        "5a1n5akZp3wQ",
        "bMFqL48J_36m",
        "EbKqA0eqvf_1",
        "OqxdRQFhx9xD",
        "I9rY-oizp4Dk"
      ],
      "authorship_tag": "ABX9TyNvBF5oei11zZLcc2ON2bHY",
      "include_colab_link": true
    },
    "kernelspec": {
      "name": "python3",
      "display_name": "Python 3"
    },
    "language_info": {
      "name": "python"
    }
  },
  "cells": [
    {
      "cell_type": "markdown",
      "metadata": {
        "id": "view-in-github",
        "colab_type": "text"
      },
      "source": [
        "<a href=\"https://colab.research.google.com/github/Clever-Lazinezz/NoteBook/blob/main/Global_Land_Temp_Analysis.ipynb\" target=\"_parent\"><img src=\"https://colab.research.google.com/assets/colab-badge.svg\" alt=\"Open In Colab\"/></a>"
      ]
    },
    {
      "cell_type": "markdown",
      "source": [
        "## Task 1: Identify the Problem"
      ],
      "metadata": {
        "id": "Yff9o1CSo0Y1"
      }
    },
    {
      "cell_type": "markdown",
      "source": [
        "### "
      ],
      "metadata": {
        "id": "hZd_4JZ6o6gm"
      }
    },
    {
      "cell_type": "markdown",
      "source": [
        "## Task 2: Load the Libraries"
      ],
      "metadata": {
        "id": "xgXooCzlo58H"
      }
    },
    {
      "cell_type": "code",
      "source": [
        "import pandas as pd\n",
        "import numpy as np\n",
        "import seaborn as sns\n",
        "import matplotlib.pyplot as plt\n",
        "\n",
        "import plotly.express as px\n",
        "import plotly.offline as py\n",
        "import plotly.graph_objects as go\n",
        "\n",
        "from sklearn.linear_model import LinearRegression\n",
        "from sklearn.model_selection import train_test_split\n",
        "from sklearn.metrics import r2_score\n",
        "from sklearn.preprocessing import MinMaxScaler"
      ],
      "metadata": {
        "id": "KUTqYfMdo-Tg"
      },
      "execution_count": 10,
      "outputs": []
    },
    {
      "cell_type": "markdown",
      "source": [
        "## Task 3: Load the Data"
      ],
      "metadata": {
        "id": "etdYl2L-o-x4"
      }
    },
    {
      "cell_type": "code",
      "source": [
        "# !wget https://raw.githubusercontent.com/msiddalingaiah/MachineLearning/master/Regression/data/kc_house_data.csv -O kc_house_data.csv"
      ],
      "metadata": {
        "id": "K26WtZG8pB-L"
      },
      "execution_count": 11,
      "outputs": []
    },
    {
      "cell_type": "code",
      "source": [
        "# will read damn near any type of file\n",
        "data = pd.read_csv('https://raw.githubusercontent.com/Clever-Lazinezz/ML-Data2/main/GlobalLandTemperaturesByCountry.csv')"
      ],
      "metadata": {
        "id": "Afvy38C-peYA"
      },
      "execution_count": 12,
      "outputs": []
    },
    {
      "cell_type": "markdown",
      "source": [
        "## Task 4: EDA(Exploratory Data Analysis)"
      ],
      "metadata": {
        "id": "6CrGRd2tpB01"
      }
    },
    {
      "cell_type": "code",
      "source": [
        "data.info()"
      ],
      "metadata": {
        "id": "-TFqPfv1pjby"
      },
      "execution_count": null,
      "outputs": []
    },
    {
      "cell_type": "code",
      "source": [
        "data.head()"
      ],
      "metadata": {
        "id": "nUKU_f781l4Q"
      },
      "execution_count": null,
      "outputs": []
    },
    {
      "cell_type": "code",
      "source": [
        "data.describe()"
      ],
      "metadata": {
        "id": "3xGTswJQpl0E"
      },
      "execution_count": null,
      "outputs": []
    },
    {
      "cell_type": "code",
      "source": [
        "data['Country'].unique()"
      ],
      "metadata": {
        "id": "v3Wkf-J60rOf"
      },
      "execution_count": null,
      "outputs": []
    },
    {
      "cell_type": "code",
      "source": [
        "data.columns"
      ],
      "metadata": {
        "id": "r-2kqCsIpPgW"
      },
      "execution_count": null,
      "outputs": []
    },
    {
      "cell_type": "code",
      "source": [
        "#Grouped by Country to see the count of the values available for each country\n",
        "country_group_df = data.groupby(by='Country').count().reset_index('Country').rename(columns={'AverageTemperature':'AverageTemperatureCount','AverageTemperatureUncertainty':'AverageTemperatureUncertaintyCount'})"
      ],
      "metadata": {
        "id": "1eQe03r3KNbF"
      },
      "execution_count": 7,
      "outputs": []
    },
    {
      "cell_type": "code",
      "source": [
        "country_group_df.head()"
      ],
      "metadata": {
        "id": "JckbrtsOpvBa"
      },
      "execution_count": null,
      "outputs": []
    },
    {
      "cell_type": "code",
      "source": [
        ""
      ],
      "metadata": {
        "id": "RVGczc1YvCVR"
      },
      "execution_count": null,
      "outputs": []
    },
    {
      "cell_type": "code",
      "source": [
        "temperature_df = data[~data['Country'].isin(countries_with_less_data)]\n",
        "temperature_df"
      ],
      "metadata": {
        "id": "jpnEoYAouKJR"
      },
      "execution_count": null,
      "outputs": []
    },
    {
      "cell_type": "code",
      "source": [
        "temperature_df['AverageTemperature'] = temperature_df['AverageTemperature'].fillna(temperature_df['AverageTemperature'].rolling(730, min_periods=1).mean())"
      ],
      "metadata": {
        "id": "mw8UXbmMvHaX"
      },
      "execution_count": null,
      "outputs": []
    },
    {
      "cell_type": "code",
      "source": [
        "temperature_df.isna().sum()"
      ],
      "metadata": {
        "id": "ELNc8frIv1pX"
      },
      "execution_count": null,
      "outputs": []
    },
    {
      "cell_type": "code",
      "source": [
        "temperature_df['Country'].unique()"
      ],
      "metadata": {
        "id": "qZPdoQwgwYnM"
      },
      "execution_count": null,
      "outputs": []
    },
    {
      "cell_type": "code",
      "source": [
        "duplicates = []\n",
        "for i in temperature_df['Country'].unique():\n",
        "  if '(' in i:\n",
        "    duplicates.append(i)"
      ],
      "metadata": {
        "id": "WgXYg7atwd8Z"
      },
      "execution_count": null,
      "outputs": []
    },
    {
      "cell_type": "code",
      "source": [
        "duplicates"
      ],
      "metadata": {
        "id": "vNUoZbYDxGUa"
      },
      "execution_count": null,
      "outputs": []
    },
    {
      "cell_type": "code",
      "source": [
        "# replace the duplicates\n",
        "temperature_df = temperature_df.replace(duplicates, ['Congro', 'Denmark', 'Falkland Islands', 'France', 'Netherlands', 'United Kingdom'])\n",
        "temperature_df"
      ],
      "metadata": {
        "id": "zLxcWC8NxIzd"
      },
      "execution_count": null,
      "outputs": []
    },
    {
      "cell_type": "code",
      "source": [
        "countries = temperature_df['Country'].isunique().tolist()\n",
        "countries"
      ],
      "metadata": {
        "id": "70vlfqnrxgRc"
      },
      "execution_count": null,
      "outputs": []
    },
    {
      "cell_type": "code",
      "source": [
        "# Get the mean temperature for each country\n",
        "mean_temperature = []\n",
        "for i in countries:\n",
        "  mean_temperature.append(temperature_df[temperature_df['Country'] == i]['AverageTemperature'].mean())"
      ],
      "metadata": {
        "id": "tGPuNKKE0bQO"
      },
      "execution_count": null,
      "outputs": []
    },
    {
      "cell_type": "code",
      "source": [
        "mean_temperature"
      ],
      "metadata": {
        "id": "fkhrUNQR0ufJ"
      },
      "execution_count": null,
      "outputs": []
    },
    {
      "cell_type": "markdown",
      "source": [
        "## Task 5: Data Visualization"
      ],
      "metadata": {
        "id": "H0VCvKl5pBob"
      }
    },
    {
      "cell_type": "code",
      "source": [
        "fig = px.bar(country_group_df, x='Country', y='AverageTemperatureCount')\n",
        "fig.show()"
      ],
      "metadata": {
        "id": "Wrr262QZq1Wh"
      },
      "execution_count": null,
      "outputs": []
    },
    {
      "cell_type": "code",
      "source": [
        "# Plot Of Mean Temperature of Countries\n",
        "df = [dict(type='choropleth', locations=countries, z=mean_temperature, locationmode='country names')]\n",
        "layout = dict(title='Average Global Land Temperatures', geao=dict(showframe=False, showocean=True, oceancolor='aqua', projection=dict(type='orthographic')))\n",
        "fig = dict(data=df, layout=layout)\n",
        "py.iplot(fig, validate=False, filename='worldmap')"
      ],
      "metadata": {
        "id": "JpF2s7uT09Ax"
      },
      "execution_count": null,
      "outputs": []
    },
    {
      "cell_type": "markdown",
      "source": [
        "## Task 9: Conduct the Linear Regression on the Data"
      ],
      "metadata": {
        "id": "5a1n5akZp3wQ"
      }
    },
    {
      "cell_type": "markdown",
      "source": [
        "### Import the Adequate Model"
      ],
      "metadata": {
        "id": "bMFqL48J_36m"
      }
    },
    {
      "cell_type": "code",
      "source": [
        "from sklearn.linear_model import LogisticRegression"
      ],
      "metadata": {
        "id": "h7RX07uhvTjB"
      },
      "execution_count": null,
      "outputs": []
    },
    {
      "cell_type": "code",
      "source": [
        "logmodel = LogisticRegression()"
      ],
      "metadata": {
        "id": "CthsOC2jvu9o"
      },
      "execution_count": null,
      "outputs": []
    },
    {
      "cell_type": "markdown",
      "source": [
        "### Train the Model created by the fit method"
      ],
      "metadata": {
        "id": "EbKqA0eqvf_1"
      }
    },
    {
      "cell_type": "code",
      "source": [
        "logmodel.fit(X_train, y_train)"
      ],
      "metadata": {
        "colab": {
          "base_uri": "https://localhost:8080/"
        },
        "id": "LoO19wMTvkMO",
        "outputId": "c0c1af2e-8732-4421-c0a0-3fbced541603"
      },
      "execution_count": null,
      "outputs": [
        {
          "output_type": "stream",
          "name": "stderr",
          "text": [
            "/usr/local/lib/python3.7/dist-packages/sklearn/linear_model/_logistic.py:818: ConvergenceWarning:\n",
            "\n",
            "lbfgs failed to converge (status=1):\n",
            "STOP: TOTAL NO. of ITERATIONS REACHED LIMIT.\n",
            "\n",
            "Increase the number of iterations (max_iter) or scale the data as shown in:\n",
            "    https://scikit-learn.org/stable/modules/preprocessing.html\n",
            "Please also refer to the documentation for alternative solver options:\n",
            "    https://scikit-learn.org/stable/modules/linear_model.html#logistic-regression\n",
            "\n"
          ]
        },
        {
          "output_type": "execute_result",
          "data": {
            "text/plain": [
              "LogisticRegression()"
            ]
          },
          "metadata": {},
          "execution_count": 53
        }
      ]
    },
    {
      "cell_type": "markdown",
      "source": [
        "### Evaluate the Model"
      ],
      "metadata": {
        "id": "OqxdRQFhx9xD"
      }
    },
    {
      "cell_type": "code",
      "source": [
        "predictions = logmodel.predict(X_test)"
      ],
      "metadata": {
        "id": "GSNseiTrx8-D"
      },
      "execution_count": null,
      "outputs": []
    },
    {
      "cell_type": "code",
      "source": [
        "from sklearn.metrics import classification_report"
      ],
      "metadata": {
        "id": "SC0UgqIrv1fO"
      },
      "execution_count": null,
      "outputs": []
    },
    {
      "cell_type": "code",
      "source": [
        "print(classification_report(y_test, predictions))"
      ],
      "metadata": {
        "colab": {
          "base_uri": "https://localhost:8080/"
        },
        "id": "1yYThGn_v9lB",
        "outputId": "f7ce50e4-b24d-4cf5-ce6b-94b316f4775f"
      },
      "execution_count": null,
      "outputs": [
        {
          "output_type": "stream",
          "name": "stdout",
          "text": [
            "              precision    recall  f1-score   support\n",
            "\n",
            "           0       0.76      0.87      0.81       154\n",
            "           1       0.78      0.63      0.70       114\n",
            "\n",
            "    accuracy                           0.77       268\n",
            "   macro avg       0.77      0.75      0.76       268\n",
            "weighted avg       0.77      0.77      0.76       268\n",
            "\n"
          ]
        }
      ]
    },
    {
      "cell_type": "markdown",
      "source": [
        "## Task 10: Making Predictions"
      ],
      "metadata": {
        "id": "I9rY-oizp4Dk"
      }
    },
    {
      "cell_type": "code",
      "source": [
        "print(logmodel.score(X_test, y_test))\n",
        "pp = logmodel.predict(X_test)\n",
        "print('Survived: ', sum(pp!=0))\n",
        "print('Not Survived: ', sum(pp=0))"
      ],
      "metadata": {
        "id": "AQBBsyZh7Em7"
      },
      "execution_count": null,
      "outputs": []
    }
  ]
}