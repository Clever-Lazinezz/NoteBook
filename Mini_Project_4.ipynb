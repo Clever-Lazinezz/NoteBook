{
  "nbformat": 4,
  "nbformat_minor": 0,
  "metadata": {
    "colab": {
      "name": "Mini Project 4.ipynb",
      "provenance": [],
      "collapsed_sections": [
        "GBAh-XaIrWk7"
      ],
      "authorship_tag": "ABX9TyN/Dq0epaohDc/5s1P6vzXB",
      "include_colab_link": true
    },
    "kernelspec": {
      "name": "python3",
      "display_name": "Python 3"
    },
    "language_info": {
      "name": "python"
    }
  },
  "cells": [
    {
      "cell_type": "markdown",
      "metadata": {
        "id": "view-in-github",
        "colab_type": "text"
      },
      "source": [
        "<a href=\"https://colab.research.google.com/github/Clever-Lazinezz/NoteBook/blob/main/Mini_Project_4.ipynb\" target=\"_parent\"><img src=\"https://colab.research.google.com/assets/colab-badge.svg\" alt=\"Open In Colab\"/></a>"
      ]
    },
    {
      "cell_type": "code",
      "source": [
        "#Principle Component Analysis?? = next topic"
      ],
      "metadata": {
        "id": "QT4S9Kq3r0xe"
      },
      "execution_count": null,
      "outputs": []
    },
    {
      "cell_type": "markdown",
      "source": [
        ""
      ],
      "metadata": {
        "id": "Esm5aU5Fr0OR"
      }
    },
    {
      "cell_type": "markdown",
      "source": [
        "## Import Libraries"
      ],
      "metadata": {
        "id": "LhtDVvB1re9l"
      }
    },
    {
      "cell_type": "code",
      "source": [
        "!pip install pydot\n",
        "!pip install pydot-ng\n",
        "!pip install graphviz\n",
        "!pip install --upgrade scikit-Learn==0.20.3"
      ],
      "metadata": {
        "id": "AiaXNsevrM1M"
      },
      "execution_count": null,
      "outputs": []
    },
    {
      "cell_type": "code",
      "source": [
        "import pandas as pd\n",
        "import numpy as np\n",
        "import seaborn as sns\n",
        "import matplotlib.pyplot as plt"
      ],
      "metadata": {
        "id": "9FQVbRjBtto4"
      },
      "execution_count": 1,
      "outputs": []
    },
    {
      "cell_type": "markdown",
      "source": [
        "## Read Files"
      ],
      "metadata": {
        "id": "GBAh-XaIrWk7"
      }
    },
    {
      "cell_type": "code",
      "source": [
        "df = pd.read_csv('https://raw.githubusercontent.com/Clever-Lazinezz/ML-Data2/main/diabetic_data.csv')"
      ],
      "metadata": {
        "id": "Nf5QD6KouZoI"
      },
      "execution_count": 2,
      "outputs": []
    },
    {
      "cell_type": "markdown",
      "source": [
        "Semi Supervised Code"
      ],
      "metadata": {
        "id": "duqNoyLIqoWg"
      }
    },
    {
      "cell_type": "markdown",
      "source": [
        "## EDA"
      ],
      "metadata": {
        "id": "NGHVD0lfrVpa"
      }
    },
    {
      "cell_type": "code",
      "source": [
        "data = df"
      ],
      "metadata": {
        "id": "FYgKs7KdnaUy"
      },
      "execution_count": 3,
      "outputs": []
    },
    {
      "cell_type": "code",
      "source": [
        "data.head()"
      ],
      "metadata": {
        "id": "AyIuWIi2tHKa"
      },
      "execution_count": null,
      "outputs": []
    },
    {
      "cell_type": "code",
      "source": [
        "data.isnull().count()"
      ],
      "metadata": {
        "id": "kwMmQrrznhcs"
      },
      "execution_count": null,
      "outputs": []
    },
    {
      "cell_type": "markdown",
      "source": [
        "### Cleaning up Data"
      ],
      "metadata": {
        "id": "JELtE6OakTuk"
      }
    },
    {
      "cell_type": "code",
      "source": [
        "# Chaning age ranges to the median number in the range\n",
        "# This is done to create integer(or categorical) values that can be used in machine learning models\n",
        "replaceDict = {'[0-10)' : 5,\n",
        "'[10-20)' : 15,\n",
        "'[20-30)' : 25, \n",
        "'[30-40)' : 35, \n",
        "'[40-50)' : 45, \n",
        "'[50-60)' : 55,\n",
        "'[60-70)' : 65, \n",
        "'[70-80)' : 75,\n",
        "'[80-90)' : 85,\n",
        "'[90-100)' : 95}\n",
        "\n",
        "data['age'] = data['age'].apply(lambda x : replaceDict[x])"
      ],
      "metadata": {
        "id": "ESpOXOo1kPbg"
      },
      "execution_count": 4,
      "outputs": []
    },
    {
      "cell_type": "code",
      "source": [
        "data['age'].head()"
      ],
      "metadata": {
        "id": "cMMNpJYTmoPD"
      },
      "execution_count": null,
      "outputs": []
    },
    {
      "cell_type": "code",
      "source": [
        "data.columns"
      ],
      "metadata": {
        "id": "y4LG_6ZUpeSP"
      },
      "execution_count": null,
      "outputs": []
    },
    {
      "cell_type": "code",
      "source": [
        "len(df)"
      ],
      "metadata": {
        "colab": {
          "base_uri": "https://localhost:8080/"
        },
        "id": "nXD9smYOp8_e",
        "outputId": "ec4105cc-ec2b-4ac7-e275-fce779aa7bcf"
      },
      "execution_count": 24,
      "outputs": [
        {
          "output_type": "execute_result",
          "data": {
            "text/plain": [
              "101766"
            ]
          },
          "metadata": {},
          "execution_count": 24
        }
      ]
    },
    {
      "cell_type": "markdown",
      "source": [
        "#### Checking for duplicate patients"
      ],
      "metadata": {
        "id": "r7gvfW4Hqzbv"
      }
    },
    {
      "cell_type": "code",
      "source": [
        "len(data['encounter_id'].unique())"
      ],
      "metadata": {
        "colab": {
          "base_uri": "https://localhost:8080/"
        },
        "id": "3ROV3TwXpZ5W",
        "outputId": "5a8760d2-9d0b-4378-f639-7fe153b8dc4e"
      },
      "execution_count": 27,
      "outputs": [
        {
          "output_type": "execute_result",
          "data": {
            "text/plain": [
              "101766"
            ]
          },
          "metadata": {},
          "execution_count": 27
        }
      ]
    },
    {
      "cell_type": "code",
      "source": [
        "len(data['admission_source_id'].unique())"
      ],
      "metadata": {
        "id": "waRrhBYaqdI_"
      },
      "execution_count": null,
      "outputs": []
    },
    {
      "cell_type": "code",
      "source": [
        "# Looks like there are duplicates\n",
        "len(data['patient_nbr'].unique())"
      ],
      "metadata": {
        "colab": {
          "base_uri": "https://localhost:8080/"
        },
        "id": "3nNCcEfGqdTF",
        "outputId": "b666f633-0542-4d1c-c334-ab50473d4bb7"
      },
      "execution_count": 28,
      "outputs": [
        {
          "output_type": "execute_result",
          "data": {
            "text/plain": [
              "71518"
            ]
          },
          "metadata": {},
          "execution_count": 28
        }
      ]
    },
    {
      "cell_type": "code",
      "source": [
        "# dropna removes the rows that contain null values\n",
        "data.dropna(inplace = True)\n",
        "data.drop_duplicates(['patient_nbr'], keep = 'first', inplace = True)"
      ],
      "metadata": {
        "id": "tjV3DMBznWOj"
      },
      "execution_count": 6,
      "outputs": []
    },
    {
      "cell_type": "code",
      "source": [
        "len(data)"
      ],
      "metadata": {
        "id": "JXRH-lvsv2ra"
      },
      "execution_count": null,
      "outputs": []
    },
    {
      "cell_type": "markdown",
      "source": [
        "#### Dropping Unwanted Data"
      ],
      "metadata": {
        "id": "ps4UVO-kv2mb"
      }
    },
    {
      "cell_type": "code",
      "source": [
        "from collections import Counter"
      ],
      "metadata": {
        "id": "vdAE4EqbzKIX"
      },
      "execution_count": 7,
      "outputs": []
    },
    {
      "cell_type": "code",
      "source": [
        "data.columns"
      ],
      "metadata": {
        "id": "oYzvAzKqzx0e"
      },
      "execution_count": null,
      "outputs": []
    },
    {
      "cell_type": "code",
      "source": [
        "data.head()"
      ],
      "metadata": {
        "id": "BcIznl0K8ZfM"
      },
      "execution_count": null,
      "outputs": []
    },
    {
      "cell_type": "code",
      "source": [
        "data.info()"
      ],
      "metadata": {
        "id": "ZcmuuSYOA7T1"
      },
      "execution_count": null,
      "outputs": []
    },
    {
      "cell_type": "code",
      "source": [
        "# Dropping this column due to the insane amount of missing data represented as '?'\n",
        "data['weight'].value_counts(dropna=False)"
      ],
      "metadata": {
        "id": "id5LI8C-1mw0"
      },
      "execution_count": null,
      "outputs": []
    },
    {
      "cell_type": "code",
      "source": [
        "data['encounter_id'].value_counts(dropna=False)"
      ],
      "metadata": {
        "id": "yTVa2EoC76lC"
      },
      "execution_count": null,
      "outputs": []
    },
    {
      "cell_type": "code",
      "source": [
        "data['encounter_id'].value_counts(dropna=False)"
      ],
      "metadata": {
        "id": "3_7wy1Q1DDp2"
      },
      "execution_count": null,
      "outputs": []
    },
    {
      "cell_type": "code",
      "source": [
        "data.drop(['weight', 'medical_specialty', 'payer_code', 'encounter_id', 'patient_nbr', 'diag_1', 'diag_2', 'diag_3'], axis=1, inplace=True)"
      ],
      "metadata": {
        "id": "JL-n1Ts63RFg"
      },
      "execution_count": 8,
      "outputs": []
    },
    {
      "cell_type": "code",
      "source": [
        "data.columns"
      ],
      "metadata": {
        "id": "BMDfi7ee30NX"
      },
      "execution_count": null,
      "outputs": []
    },
    {
      "cell_type": "code",
      "source": [
        ""
      ],
      "metadata": {
        "id": "B60CufwrGUAU"
      },
      "execution_count": null,
      "outputs": []
    },
    {
      "cell_type": "markdown",
      "source": [
        "#### Replacing remaining objects with integer values"
      ],
      "metadata": {
        "id": "4CwQI1DcGT2-"
      }
    },
    {
      "cell_type": "code",
      "source": [
        "# DONT REINVENT THE WHEEL - USE YOUR RESOURCES\n",
        "# Solution by Sachin Ranveer\n",
        "# Functions could be written in a seperate cell, and then called by name for the apply method\n",
        "data['discharge_disposition_id'] = data['discharge_disposition_id'].apply(lambda x : 1 if int(x) in [6, 8, 9, 13] \n",
        "                                                                           else ( 2 if int(x) in [3, 4, 5, 14, 22, 23, 24]\n",
        "                                                                           else ( 10 if int(x) in [12, 15, 16, 17]\n",
        "                                                                           else ( 11 if int(x) in [19, 20, 21]\n",
        "                                                                           else ( 18 if int(x) in [25, 26] \n",
        "                                                                           else int(x) )))))\n",
        "\n",
        "data = data[~data.discharge_disposition_id.isin([11,13,14,19,20,21])]\n",
        "\n",
        "data['admission_type_id'] = data['admission_type_id'].apply(lambda x : 1 if int(x) in [2, 7]\n",
        "                                                            else ( 5 if int(x) in [6, 8]\n",
        "                                                            else int(x) ))\n",
        "\n",
        "data['admission_source_id'] = data['admission_source_id'].apply(lambda x : 1 if int(x) in [2, 3]\n",
        "                                                            else ( 4 if int(x) in [5, 6, 10, 22, 25]\n",
        "                                                            else ( 9 if int(x) in [15, 17, 20, 21]\n",
        "                                                            else ( 11 if int(x) in [13, 14]\n",
        "                                                            else int(x) ))))\n",
        "\n",
        "for col in [\"metformin\", \"repaglinide\", \"nateglinide\", \"chlorpropamide\", \"glimepiride\", \"acetohexamide\", \"glipizide\", \"glyburide\", \"tolbutamide\", \"pioglitazone\", \"rosiglitazone\", \"acarbose\", \"miglitol\", \"troglitazone\", \"tolazamide\", \"examide\", \"citoglipton\", \"insulin\", \"glyburide-metformin\", \"glipizide-metformin\", \"glimepiride-pioglitazone\", \"metformin-rosiglitazone\", \"metformin-pioglitazone\"]:\n",
        "    data[col] = data[col].apply(lambda x : 10 if x == 'Up' \n",
        "                                              else ( -10 if x == 'Down'                                                          \n",
        "                                              else ( 0 if x == 'Steady'\n",
        "                                              else  -20)))\n",
        "\n",
        "\n",
        "data['change'] = data['change'].apply(lambda x : 1 if x == 'Ch'\n",
        "                                                 else -1)\n",
        "\n",
        "\n",
        "data['diabetesMed'] = data['diabetesMed'].apply(lambda x : -1 if x == 'No'\n",
        "                                                else 1)\n",
        "\n",
        "\n",
        "data['max_glu_serum'] = data['max_glu_serum'].apply(lambda x : 200 if x == '>200' \n",
        "                                                            else ( 300 if x == '>300'                                                          \n",
        "                                                            else ( 100 if x == 'Norm'\n",
        "                                                            else  0)))\n",
        "\n",
        "data['A1Cresult'] = data['A1Cresult'].apply(lambda x : 7 if x == '>7' \n",
        "                                                         else (8 if  x == '>8'                                                        \n",
        "                                                         else ( 5 if x == 'Norm'\n",
        "                                                          else  0)))"
      ],
      "metadata": {
        "id": "RgiMoDR8G1jt"
      },
      "execution_count": null,
      "outputs": []
    },
    {
      "cell_type": "code",
      "source": [
        "data['readmitted'].unique()"
      ],
      "metadata": {
        "colab": {
          "base_uri": "https://localhost:8080/"
        },
        "id": "XTg9YGZX8c2I",
        "outputId": "77fa0373-d2ac-447a-cd4e-0bb27343b114"
      },
      "execution_count": 13,
      "outputs": [
        {
          "output_type": "execute_result",
          "data": {
            "text/plain": [
              "array(['NO', '>30', '<30'], dtype=object)"
            ]
          },
          "metadata": {},
          "execution_count": 13
        }
      ]
    },
    {
      "cell_type": "code",
      "source": [
        "# Alternate way of doing the following cell's operations\n",
        "# MISSING STEP - CONVERTING TYPE TO INT(this method still leaves values as objects)\n",
        "\"\"\"\n",
        "data['readmitted'] = data['readmitted'].replace(['NO'],0)\n",
        "data['readmitted'] = data['readmitted'].replace(['>30'],45)\n",
        "data['readmitted'] = data['readmitted'].replace(['<30'],15)\n",
        "\"\"\""
      ],
      "metadata": {
        "id": "amkc3UYTHUVT"
      },
      "execution_count": null,
      "outputs": []
    },
    {
      "cell_type": "code",
      "source": [
        "# Note how parenthesises are placed...\n",
        "data['readmitted'] = data['readmitted'].apply(lambda x : 0 if x == 'NO'\n",
        "                                                        else (45 if x == '>30'\n",
        "                                                        else 15))"
      ],
      "metadata": {
        "id": "FMBp42QLOMIH"
      },
      "execution_count": null,
      "outputs": []
    },
    {
      "cell_type": "code",
      "source": [
        "data['readmitted']"
      ],
      "metadata": {
        "id": "C4JWJCcGK6Gc"
      },
      "execution_count": null,
      "outputs": []
    },
    {
      "cell_type": "code",
      "source": [
        "# Solution from Sachin Ranveer\n",
        "# Coverting diagnosises into usable data will be done on a future date due to the numerous challenges\n",
        "\"\"\"\n",
        "diag_1 = Counter(list(data['diag_1'])).most_common(1)[0][0]\n",
        "diag_2 = Counter(list(data['diag_2'])).most_common(1)[0][0]\n",
        "diag_3 = Counter(list(data['diag_3'])).most_common(1)[0][0]\n",
        "data['diag_1'] = data['diag_1'].apply(lambda x : diag_1 if x == '?' else x)\n",
        "data['diag_2'] = data['diag_2'].apply(lambda x : diag_2 if x == '?' else x)\n",
        "data['diag_3'] = data['diag_3'].apply(lambda x : diag_3 if x == '?' else x)\n",
        "\"\"\""
      ],
      "metadata": {
        "id": "WAXPegTvv2hq"
      },
      "execution_count": null,
      "outputs": []
    },
    {
      "cell_type": "code",
      "source": [
        "\n",
        "data.info()"
      ],
      "metadata": {
        "colab": {
          "base_uri": "https://localhost:8080/"
        },
        "id": "iJn0WCLfKHZ6",
        "outputId": "dc87b474-91a2-4feb-8dfa-276c249bf985"
      },
      "execution_count": 12,
      "outputs": [
        {
          "output_type": "stream",
          "name": "stdout",
          "text": [
            "<class 'pandas.core.frame.DataFrame'>\n",
            "Int64Index: 70434 entries, 0 to 101765\n",
            "Data columns (total 45 columns):\n",
            " #   Column                    Non-Null Count  Dtype \n",
            "---  ------                    --------------  ----- \n",
            " 0   race                      70434 non-null  object\n",
            " 1   gender                    70434 non-null  object\n",
            " 2   age                       70434 non-null  int64 \n",
            " 3   admission_type_id         70434 non-null  int64 \n",
            " 4   discharge_disposition_id  70434 non-null  int64 \n",
            " 5   admission_source_id       70434 non-null  int64 \n",
            " 6   time_in_hospital          70434 non-null  int64 \n",
            " 7   num_lab_procedures        70434 non-null  int64 \n",
            " 8   num_procedures            70434 non-null  int64 \n",
            " 9   num_medications           70434 non-null  int64 \n",
            " 10  number_outpatient         70434 non-null  int64 \n",
            " 11  number_emergency          70434 non-null  int64 \n",
            " 12  number_inpatient          70434 non-null  int64 \n",
            " 13  diag_1                    70434 non-null  object\n",
            " 14  diag_2                    70434 non-null  object\n",
            " 15  diag_3                    70434 non-null  object\n",
            " 16  number_diagnoses          70434 non-null  int64 \n",
            " 17  max_glu_serum             70434 non-null  int64 \n",
            " 18  A1Cresult                 70434 non-null  int64 \n",
            " 19  metformin                 70434 non-null  int64 \n",
            " 20  repaglinide               70434 non-null  int64 \n",
            " 21  nateglinide               70434 non-null  int64 \n",
            " 22  chlorpropamide            70434 non-null  int64 \n",
            " 23  glimepiride               70434 non-null  int64 \n",
            " 24  acetohexamide             70434 non-null  int64 \n",
            " 25  glipizide                 70434 non-null  int64 \n",
            " 26  glyburide                 70434 non-null  int64 \n",
            " 27  tolbutamide               70434 non-null  int64 \n",
            " 28  pioglitazone              70434 non-null  int64 \n",
            " 29  rosiglitazone             70434 non-null  int64 \n",
            " 30  acarbose                  70434 non-null  int64 \n",
            " 31  miglitol                  70434 non-null  int64 \n",
            " 32  troglitazone              70434 non-null  int64 \n",
            " 33  tolazamide                70434 non-null  int64 \n",
            " 34  examide                   70434 non-null  int64 \n",
            " 35  citoglipton               70434 non-null  int64 \n",
            " 36  insulin                   70434 non-null  int64 \n",
            " 37  glyburide-metformin       70434 non-null  int64 \n",
            " 38  glipizide-metformin       70434 non-null  int64 \n",
            " 39  glimepiride-pioglitazone  70434 non-null  int64 \n",
            " 40  metformin-rosiglitazone   70434 non-null  int64 \n",
            " 41  metformin-pioglitazone    70434 non-null  int64 \n",
            " 42  change                    70434 non-null  int64 \n",
            " 43  diabetesMed               70434 non-null  int64 \n",
            " 44  readmitted                70434 non-null  int64 \n",
            "dtypes: int64(40), object(5)\n",
            "memory usage: 24.7+ MB\n"
          ]
        }
      ]
    },
    {
      "cell_type": "code",
      "source": [
        "data.head()"
      ],
      "metadata": {
        "id": "qjl04iQdKLPz"
      },
      "execution_count": null,
      "outputs": []
    },
    {
      "cell_type": "code",
      "source": [
        "data['race'].value_counts(dropna=False)"
      ],
      "metadata": {
        "colab": {
          "base_uri": "https://localhost:8080/"
        },
        "id": "pok3_F_ZaXZQ",
        "outputId": "e644b944-f4d6-4165-ee6f-939b130ad968"
      },
      "execution_count": 15,
      "outputs": [
        {
          "output_type": "execute_result",
          "data": {
            "text/plain": [
              "Caucasian          52663\n",
              "AfricanAmerican    12692\n",
              "?                   1921\n",
              "Hispanic            1506\n",
              "Other               1161\n",
              "Asian                491\n",
              "Name: race, dtype: int64"
            ]
          },
          "metadata": {},
          "execution_count": 15
        }
      ]
    },
    {
      "cell_type": "markdown",
      "source": [
        "## Training Test Split"
      ],
      "metadata": {
        "id": "-W_9IghfrVd2"
      }
    },
    {
      "cell_type": "code",
      "source": [
        "from sklearn.model_selection import train_test_split"
      ],
      "metadata": {
        "id": "KLxQEeDOtkqW"
      },
      "execution_count": null,
      "outputs": []
    },
    {
      "cell_type": "code",
      "source": [
        "X = df.drop(\"Kyphosis\", axis=1)\n",
        "y = df[\"Kyphosis\"]"
      ],
      "metadata": {
        "id": "44Z01rMKvPLF"
      },
      "execution_count": null,
      "outputs": []
    },
    {
      "cell_type": "code",
      "source": [
        "X_train, X_test, y_train, y_test = train_test_split(X, y, test_size = 0.33, random_state = 0)"
      ],
      "metadata": {
        "id": "Et95YKyPvPG0"
      },
      "execution_count": null,
      "outputs": []
    },
    {
      "cell_type": "code",
      "source": [
        "from sklearn.tree import DecisionTreeClassifier\n",
        "dtree = DecisionTreeClassifier()\n",
        "dtree.fit(X_train, y_train)"
      ],
      "metadata": {
        "id": "tG6vOka7vPCv"
      },
      "execution_count": null,
      "outputs": []
    },
    {
      "cell_type": "code",
      "source": [
        "predictions = dtree.predict(X_test)\n",
        "from sklearn.metrics import classification_report, confusion_matrix\n",
        "print(classification_report(y_test, predictions))"
      ],
      "metadata": {
        "id": "793HpH6OvO5C"
      },
      "execution_count": null,
      "outputs": []
    },
    {
      "cell_type": "code",
      "source": [
        "print(confusion_matrix(y_test, predictions))"
      ],
      "metadata": {
        "colab": {
          "base_uri": "https://localhost:8080/"
        },
        "id": "xDW1vT7bw6Ry",
        "outputId": "33c58696-8c2b-4ccf-c427-984ef81b4349"
      },
      "execution_count": null,
      "outputs": [
        {
          "output_type": "stream",
          "name": "stdout",
          "text": [
            "[[15  5]\n",
            " [ 4  3]]\n"
          ]
        }
      ]
    },
    {
      "cell_type": "code",
      "source": [
        "from IPython.display import Image\n",
        "from sklearn.externals.six import StringIO\n",
        "from sklearn.tree import export_graphviz\n",
        "import pydot\n",
        "\n",
        "features = list(df.columns[1:])\n",
        "features"
      ],
      "metadata": {
        "colab": {
          "base_uri": "https://localhost:8080/"
        },
        "id": "N4tBaVQ8w_sT",
        "outputId": "8ed8a386-5745-451b-cca2-847216256739"
      },
      "execution_count": null,
      "outputs": [
        {
          "output_type": "execute_result",
          "data": {
            "text/plain": [
              "['Age', 'Number', 'Start']"
            ]
          },
          "metadata": {},
          "execution_count": 16
        }
      ]
    },
    {
      "cell_type": "code",
      "source": [
        "dot_data = StringIO()\n",
        "export_graphviz(dtree, out_file=dot_data, feature_names=features,filled=True, rounded=True)\n",
        "\n",
        "graph = pydot.graph_from_dot_data(dot_data.getvalue())\n",
        "Image(graph[0].create_png())"
      ],
      "metadata": {
        "id": "HZU_yzn0y45u"
      },
      "execution_count": null,
      "outputs": []
    },
    {
      "cell_type": "code",
      "source": [
        "rfc_pred = rfc.predict(X_test)\n",
        "print(confusion_matrix(y_test, ref_pred))"
      ],
      "metadata": {
        "id": "3QI24-Jlzeyp"
      },
      "execution_count": null,
      "outputs": []
    },
    {
      "cell_type": "code",
      "source": [
        "print(classification_report(X))"
      ],
      "metadata": {
        "id": "NHpMBRth0HKb"
      },
      "execution_count": null,
      "outputs": []
    }
  ]
}