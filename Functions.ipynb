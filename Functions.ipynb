{
  "nbformat": 4,
  "nbformat_minor": 0,
  "metadata": {
    "colab": {
      "name": "Functions.ipynb",
      "provenance": [],
      "collapsed_sections": [
        "IFjxFO7lXv6J"
      ],
      "authorship_tag": "ABX9TyONYLxd6nTuJaj+Th3SAU/m",
      "include_colab_link": true
    },
    "kernelspec": {
      "name": "python3",
      "display_name": "Python 3"
    },
    "language_info": {
      "name": "python"
    }
  },
  "cells": [
    {
      "cell_type": "markdown",
      "metadata": {
        "id": "view-in-github",
        "colab_type": "text"
      },
      "source": [
        "<a href=\"https://colab.research.google.com/github/Clever-Lazinezz/NoteBook/blob/main/Functions.ipynb\" target=\"_parent\"><img src=\"https://colab.research.google.com/assets/colab-badge.svg\" alt=\"Open In Colab\"/></a>"
      ]
    },
    {
      "cell_type": "markdown",
      "source": [
        "# Intro to Python IV"
      ],
      "metadata": {
        "id": "hYFLKI3hXlvB"
      }
    },
    {
      "cell_type": "markdown",
      "source": [
        "## Functions!"
      ],
      "metadata": {
        "id": "Z8jEUJtYXrw8"
      }
    },
    {
      "cell_type": "markdown",
      "source": [
        "# 1) How to define a Function"
      ],
      "metadata": {
        "id": "IFjxFO7lXv6J"
      }
    },
    {
      "cell_type": "code",
      "source": [
        "\"\"\"\n",
        "'def' name_of_function():\n",
        "  whatever the function is supposed to do.\n",
        "\"\"\""
      ],
      "metadata": {
        "colab": {
          "base_uri": "https://localhost:8080/",
          "height": 37
        },
        "id": "TiTd1cbCXv14",
        "outputId": "712d7f53-9d53-46e8-b2c5-099fc7f94718"
      },
      "execution_count": null,
      "outputs": [
        {
          "output_type": "execute_result",
          "data": {
            "text/plain": [
              "\"\\n'def' name_of_function():\\n  whatever the function is supposed to do.\\n\""
            ],
            "application/vnd.google.colaboratory.intrinsic+json": {
              "type": "string"
            }
          },
          "metadata": {},
          "execution_count": 1
        }
      ]
    },
    {
      "cell_type": "code",
      "source": [
        "def my_function():\n",
        "  print('Hi there')"
      ],
      "metadata": {
        "id": "sRdhp8tfXvyO"
      },
      "execution_count": null,
      "outputs": []
    },
    {
      "cell_type": "code",
      "source": [
        "type(my_function)"
      ],
      "metadata": {
        "colab": {
          "base_uri": "https://localhost:8080/"
        },
        "id": "TKTf3Fl3Zt-B",
        "outputId": "ddd0ad7c-5388-443d-c36f-705913a7d6a3"
      },
      "execution_count": null,
      "outputs": [
        {
          "output_type": "execute_result",
          "data": {
            "text/plain": [
              "function"
            ]
          },
          "metadata": {},
          "execution_count": 7
        }
      ]
    },
    {
      "cell_type": "code",
      "source": [
        "my_function()"
      ],
      "metadata": {
        "colab": {
          "base_uri": "https://localhost:8080/"
        },
        "id": "qPr1AObtXvp5",
        "outputId": "5665ffc0-abf9-4729-df71-16f20a9cf3e9"
      },
      "execution_count": null,
      "outputs": [
        {
          "output_type": "stream",
          "name": "stdout",
          "text": [
            "Hi there\n"
          ]
        }
      ]
    },
    {
      "cell_type": "code",
      "source": [
        "help(my_function)"
      ],
      "metadata": {
        "colab": {
          "base_uri": "https://localhost:8080/"
        },
        "id": "hTnjy6rzXvZL",
        "outputId": "5280decb-f9be-48a7-b254-1353991a19d0"
      },
      "execution_count": null,
      "outputs": [
        {
          "output_type": "stream",
          "name": "stdout",
          "text": [
            "Help on function my_function in module __main__:\n",
            "\n",
            "my_function()\n",
            "\n"
          ]
        }
      ]
    },
    {
      "cell_type": "code",
      "source": [
        "# TO BE INCLUDED ON EVERY ASSIGNMENT\n",
        "\n",
        "def my_function():\n",
        "  \"\"\"\n",
        "  Created by: J_Bandzz\n",
        "  Input: None\n",
        "  Output: Hello\n",
        "  \"\"\"\n",
        "\n",
        "  print(\"Hello\")"
      ],
      "metadata": {
        "id": "R-mu_LhzZx5e"
      },
      "execution_count": null,
      "outputs": []
    },
    {
      "cell_type": "code",
      "source": [
        "my_function()"
      ],
      "metadata": {
        "colab": {
          "base_uri": "https://localhost:8080/"
        },
        "id": "72rH8wJDZ_xP",
        "outputId": "82acbf9c-18b4-44ae-fc92-3838decd53eb"
      },
      "execution_count": null,
      "outputs": [
        {
          "output_type": "stream",
          "name": "stdout",
          "text": [
            "Hello\n"
          ]
        }
      ]
    },
    {
      "cell_type": "code",
      "source": [
        "help(my_function)"
      ],
      "metadata": {
        "colab": {
          "base_uri": "https://localhost:8080/"
        },
        "id": "5uAfuhtLaCFl",
        "outputId": "afffe0b4-1a6b-409b-c68c-b043786562de"
      },
      "execution_count": null,
      "outputs": [
        {
          "output_type": "stream",
          "name": "stdout",
          "text": [
            "Help on function my_function in module __main__:\n",
            "\n",
            "my_function()\n",
            "    Created by: J_Bandzz\n",
            "    Input: None\n",
            "    Output: Hello\n",
            "\n"
          ]
        }
      ]
    },
    {
      "cell_type": "code",
      "source": [
        "def greetings(name):\n",
        "  \"\"\"\n",
        "\n",
        "  Created by: Jordan\n",
        "  Input: None\n",
        "  Output: Hello to the user\n",
        "  \"\"\"\n",
        "\n",
        "  print(\"Good afternoon \" + name)"
      ],
      "metadata": {
        "id": "h4rPCLq2aGjc"
      },
      "execution_count": null,
      "outputs": []
    },
    {
      "cell_type": "code",
      "source": [
        "greetings(\"Jordan\")"
      ],
      "metadata": {
        "colab": {
          "base_uri": "https://localhost:8080/"
        },
        "id": "MFe0JP-2axnd",
        "outputId": "f3c62aaf-d35e-4b5b-c4d6-acec02176a89"
      },
      "execution_count": null,
      "outputs": [
        {
          "output_type": "stream",
          "name": "stdout",
          "text": [
            "Good afternoon Jordan\n"
          ]
        }
      ]
    },
    {
      "cell_type": "code",
      "source": [
        "def greetings2(name='Jordan'):\n",
        "\n",
        "  \"\"\"\n",
        "  Created by: Jordan\n",
        "  Input:\n",
        "  None:\n",
        "  Output: Hello to the user\n",
        "  \"\"\"\n",
        "\n",
        "  print(\"Good afternoon \" + name)"
      ],
      "metadata": {
        "id": "MYLMwTmwazrr"
      },
      "execution_count": null,
      "outputs": []
    },
    {
      "cell_type": "code",
      "source": [
        "greetings2('Tom')"
      ],
      "metadata": {
        "colab": {
          "base_uri": "https://localhost:8080/"
        },
        "id": "iD_RRR0_bjt5",
        "outputId": "2f1def3a-6b99-40f5-9c37-9d8d9b2f842e"
      },
      "execution_count": null,
      "outputs": [
        {
          "output_type": "stream",
          "name": "stdout",
          "text": [
            "Good afternoon Tom\n"
          ]
        }
      ]
    },
    {
      "cell_type": "code",
      "source": [
        "greetings2()"
      ],
      "metadata": {
        "colab": {
          "base_uri": "https://localhost:8080/"
        },
        "id": "UKw1_8EAboIF",
        "outputId": "f5206578-f381-4ec6-bb55-05dfbd4a67b9"
      },
      "execution_count": null,
      "outputs": [
        {
          "output_type": "stream",
          "name": "stdout",
          "text": [
            "Good afternoon Jordan\n"
          ]
        }
      ]
    },
    {
      "cell_type": "code",
      "source": [
        "name = input(\"Enter your name: \")\n",
        "greetings2(name)"
      ],
      "metadata": {
        "colab": {
          "base_uri": "https://localhost:8080/"
        },
        "id": "sXt75VwgbrQS",
        "outputId": "d462e84d-94d1-40da-ddea-e94a462fdf4f"
      },
      "execution_count": null,
      "outputs": [
        {
          "output_type": "stream",
          "name": "stdout",
          "text": [
            "Enter your name: Hazel\n",
            "Good afternoon Hazel\n"
          ]
        }
      ]
    },
    {
      "cell_type": "code",
      "source": [
        "def add(n1,n2):\n",
        "  return n1 + n2"
      ],
      "metadata": {
        "id": "KpVUCgQQbw50"
      },
      "execution_count": null,
      "outputs": []
    },
    {
      "cell_type": "code",
      "source": [
        "add(34, 89)"
      ],
      "metadata": {
        "colab": {
          "base_uri": "https://localhost:8080/"
        },
        "id": "hgtqaigpb5Le",
        "outputId": "0fe8cbfb-77a1-44e4-a96a-6e00df72fb45"
      },
      "execution_count": null,
      "outputs": [
        {
          "output_type": "execute_result",
          "data": {
            "text/plain": [
              "123"
            ]
          },
          "metadata": {},
          "execution_count": 32
        }
      ]
    },
    {
      "cell_type": "code",
      "source": [
        "def even_numbers(n):\n",
        "  \"\"\"\n",
        "  Description: This function prints out even numbers from a given list of numbers.\n",
        "  Created by: Jordan\n",
        "  Input: list of numbers\n",
        "  Output: even numbers from given list\n",
        "  \"\"\"\n",
        "  num = []\n",
        "  for i in n:\n",
        "    if i % 2 == 0:\n",
        "      num.append(i)\n",
        "  return(num)"
      ],
      "metadata": {
        "id": "pvt0GgFMb5rF"
      },
      "execution_count": null,
      "outputs": []
    },
    {
      "cell_type": "code",
      "source": [
        "help(even_numbers)"
      ],
      "metadata": {
        "colab": {
          "base_uri": "https://localhost:8080/"
        },
        "id": "9w35uF2Xb5zc",
        "outputId": "f556f2e9-a2d3-403f-a425-bf6918453dd9"
      },
      "execution_count": null,
      "outputs": [
        {
          "output_type": "stream",
          "name": "stdout",
          "text": [
            "Help on function even_numbers in module __main__:\n",
            "\n",
            "even_numbers(n)\n",
            "    Description: This function prints out even numbers from a given list of numbers.\n",
            "    Created by: Jordan\n",
            "    Input: list of numbers\n",
            "    Output: even numbers from given list\n",
            "\n"
          ]
        }
      ]
    },
    {
      "cell_type": "code",
      "source": [
        "even_numbers([2,43,98,3,77,66])"
      ],
      "metadata": {
        "colab": {
          "base_uri": "https://localhost:8080/"
        },
        "id": "1GLAbhTYdTW4",
        "outputId": "121b6461-fe8f-457a-b254-e73bb9c7d64e"
      },
      "execution_count": null,
      "outputs": [
        {
          "output_type": "execute_result",
          "data": {
            "text/plain": [
              "[2, 98, 66]"
            ]
          },
          "metadata": {},
          "execution_count": 40
        }
      ]
    },
    {
      "cell_type": "code",
      "source": [
        "even_numbers([23,33,7])"
      ],
      "metadata": {
        "colab": {
          "base_uri": "https://localhost:8080/"
        },
        "id": "3CvJNUKqb56v",
        "outputId": "18cfd152-fbee-4f4f-a6c0-4307a4852cb7"
      },
      "execution_count": null,
      "outputs": [
        {
          "output_type": "execute_result",
          "data": {
            "text/plain": [
              "[]"
            ]
          },
          "metadata": {},
          "execution_count": 39
        }
      ]
    },
    {
      "cell_type": "markdown",
      "source": [
        "# Practice Problems"
      ],
      "metadata": {
        "id": "pSHv5bpYnbLj"
      }
    },
    {
      "cell_type": "code",
      "source": [
        "def DivByFive(n):\n",
        "  \"\"\"\n",
        "  Description: Returns list of numbers divisibile by five from a given list.\n",
        "  Created by: Jordan A.\n",
        "  Input: list of numbers\n",
        "  Output: list of numbers divisible by five\n",
        "  \"\"\"\n",
        "  \n",
        "  list1 = []\n",
        "\n",
        "  for num in n:\n",
        "    if num % 5 == 0:\n",
        "      list1.append(num)\n",
        "  return list1"
      ],
      "metadata": {
        "id": "3YyokRD1nf8K"
      },
      "execution_count": null,
      "outputs": []
    },
    {
      "cell_type": "code",
      "source": [
        "DivByFive([2,5,3,67,55,25,100])"
      ],
      "metadata": {
        "colab": {
          "base_uri": "https://localhost:8080/"
        },
        "id": "X0UtE4Vrnf3a",
        "outputId": "b6330fec-e166-4922-df90-f3adcba3ab09"
      },
      "execution_count": null,
      "outputs": [
        {
          "output_type": "execute_result",
          "data": {
            "text/plain": [
              "[5, 55, 25, 100]"
            ]
          },
          "metadata": {},
          "execution_count": 49
        }
      ]
    },
    {
      "cell_type": "code",
      "source": [
        "def FirstLastEqual(num_list):\n",
        "  \"\"\"\n",
        "  Description: Determines if the last and first number are equal in a list\n",
        "  Created By: Jordan A.\n",
        "  Input: list of numbers\n",
        "  Output: String stating if the the first abnd last elements of a list are equal\n",
        "  \"\"\"\n",
        "\n",
        "num1 = num_list[0]\n",
        "num2 = num_list[-1]\n",
        "\n",
        "if num1 == num2:\n",
        "   print(\"The first and last number are equal!\")\n",
        "else:\n",
        "  print(\"The first and last number aren't equal\")\n",
        "\n"
      ],
      "metadata": {
        "colab": {
          "base_uri": "https://localhost:8080/"
        },
        "id": "IdAEZmvenf0N",
        "outputId": "2407e8ac-c8eb-4a7e-e65a-aac76bf27fe8"
      },
      "execution_count": null,
      "outputs": [
        {
          "output_type": "stream",
          "name": "stdout",
          "text": [
            "The first and last number are equal!\n"
          ]
        }
      ]
    },
    {
      "cell_type": "code",
      "source": [
        "FirstLastEqual([2,7,4,446,7,3,4])"
      ],
      "metadata": {
        "id": "1CCR1cirnfwK"
      },
      "execution_count": null,
      "outputs": []
    },
    {
      "cell_type": "code",
      "source": [
        "list2 = [1,6]"
      ],
      "metadata": {
        "id": "aNSbE4oUnfs6"
      },
      "execution_count": null,
      "outputs": []
    },
    {
      "cell_type": "code",
      "source": [
        "list3 = [1]"
      ],
      "metadata": {
        "id": "4otloppenfpq"
      },
      "execution_count": null,
      "outputs": []
    },
    {
      "cell_type": "code",
      "source": [
        "\n",
        "num_list1 = [2,3]\n",
        "if num_list1[len(num_list1)-1] == num_list1[0]:\n",
        "  print(\"The first and last number are equal!\")\n",
        "else:\n",
        "  print(\"The first and last number aren't equal\")"
      ],
      "metadata": {
        "colab": {
          "base_uri": "https://localhost:8080/"
        },
        "id": "y12eaDWznfQn",
        "outputId": "cde55aa1-fb8f-4a34-c98b-6559496a1022"
      },
      "execution_count": null,
      "outputs": [
        {
          "output_type": "stream",
          "name": "stdout",
          "text": [
            "The first and last number are equal!\n"
          ]
        }
      ]
    },
    {
      "cell_type": "code",
      "source": [
        "def FirstLastColor(list_colors): \n",
        "  \"\"\"\n",
        "  Description: Prints first and last color of a given list\n",
        "  Created by: Jordan A.\n",
        "  Input: A list of colors\n",
        "  Output: First and last color\n",
        "  \"\"\"\n",
        "\n",
        "  color1 = list_colors[0]\n",
        "  color2 = list_colors[-1]\n",
        "\n",
        "  print(\"The first color: \" + color1 + \"\\n\" + \"The second color: \" + color2)\n"
      ],
      "metadata": {
        "id": "-2wO1jfWxRd-"
      },
      "execution_count": null,
      "outputs": []
    },
    {
      "cell_type": "code",
      "source": [
        "FirstLastColor([\"red\", \"blue\", \"green\", \"violet\"])"
      ],
      "metadata": {
        "colab": {
          "base_uri": "https://localhost:8080/"
        },
        "id": "6KCx5KlVycjI",
        "outputId": "58624bd8-bbf5-4bf0-8c98-4be9f377e664"
      },
      "execution_count": null,
      "outputs": [
        {
          "output_type": "stream",
          "name": "stdout",
          "text": [
            "The first color: red\n",
            "The second color: violet\n"
          ]
        }
      ]
    },
    {
      "cell_type": "code",
      "source": [
        "def Calc(n):\n",
        "  \"\"\"\n",
        "  Description: Adds the square and cube of a given number to itself\n",
        "  Created by: Jordan A\n",
        "  Input: A number\n",
        "  Output: A bigger number\n",
        "  \"\"\"\n",
        "\n",
        "  return n + (n * n) + (n * n * n)"
      ],
      "metadata": {
        "id": "ic2pmOlwyj_W"
      },
      "execution_count": null,
      "outputs": []
    },
    {
      "cell_type": "code",
      "source": [
        "n = 2\n",
        "\n",
        "print(str(n + (n * n) + (n * n * n)))"
      ],
      "metadata": {
        "colab": {
          "base_uri": "https://localhost:8080/"
        },
        "id": "gtEV1BSn1C-m",
        "outputId": "4909a52a-e88f-4d15-880a-13ba3337b5dd"
      },
      "execution_count": null,
      "outputs": [
        {
          "output_type": "stream",
          "name": "stdout",
          "text": [
            "14\n"
          ]
        }
      ]
    },
    {
      "cell_type": "code",
      "source": [
        "Calc(2)"
      ],
      "metadata": {
        "colab": {
          "base_uri": "https://localhost:8080/"
        },
        "id": "UToqgKws1Ij7",
        "outputId": "3569411d-2f36-45da-df0b-0c9fb171a39e"
      },
      "execution_count": null,
      "outputs": [
        {
          "output_type": "execute_result",
          "data": {
            "text/plain": [
              "14"
            ]
          },
          "metadata": {},
          "execution_count": 97
        }
      ]
    },
    {
      "cell_type": "code",
      "source": [
        "Calc(-2)"
      ],
      "metadata": {
        "colab": {
          "base_uri": "https://localhost:8080/"
        },
        "id": "qNUDF3Ky1PMZ",
        "outputId": "4cffec70-12a7-43b1-9f1b-c07ef56a4c56"
      },
      "execution_count": null,
      "outputs": [
        {
          "output_type": "execute_result",
          "data": {
            "text/plain": [
              "-6"
            ]
          },
          "metadata": {},
          "execution_count": 96
        }
      ]
    },
    {
      "cell_type": "code",
      "source": [
        "bin(Calc(24849584248964))"
      ],
      "metadata": {
        "colab": {
          "base_uri": "https://localhost:8080/",
          "height": 54
        },
        "id": "SG65GUQT1vRD",
        "outputId": "983b2444-5134-4049-ce9e-1402e7362f10"
      },
      "execution_count": null,
      "outputs": [
        {
          "output_type": "execute_result",
          "data": {
            "text/plain": [
              "'0b10110100011000000010101100011001101111000110011011110110000101010101011111011011011001101000100100001110110110011100101111010011010100'"
            ],
            "application/vnd.google.colaboratory.intrinsic+json": {
              "type": "string"
            }
          },
          "metadata": {},
          "execution_count": 99
        }
      ]
    },
    {
      "cell_type": "code",
      "source": [
        ""
      ],
      "metadata": {
        "id": "QD_t5Z9610VZ"
      },
      "execution_count": null,
      "outputs": []
    }
  ]
}